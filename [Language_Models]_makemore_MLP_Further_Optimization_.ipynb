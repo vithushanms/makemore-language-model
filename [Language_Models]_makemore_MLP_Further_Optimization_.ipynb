{
  "cells": [
    {
      "cell_type": "markdown",
      "metadata": {
        "id": "view-in-github",
        "colab_type": "text"
      },
      "source": [
        "<a href=\"https://colab.research.google.com/github/vithushanms/makemore-language-model/blob/main/%5BLanguage_Models%5D_makemore_MLP_Further_Optimization_.ipynb\" target=\"_parent\"><img src=\"https://colab.research.google.com/assets/colab-badge.svg\" alt=\"Open In Colab\"/></a>"
      ]
    },
    {
      "cell_type": "code",
      "execution_count": null,
      "metadata": {
        "id": "jV_VKEpC1SEs"
      },
      "outputs": [],
      "source": [
        "import torch\n",
        "import torch.nn.functional as F\n",
        "import matplotlib.pyplot as plt # for making figures\n",
        "%matplotlib inline"
      ]
    },
    {
      "cell_type": "code",
      "execution_count": null,
      "metadata": {
        "colab": {
          "base_uri": "https://localhost:8080/"
        },
        "id": "q6lGUb1f1WXO",
        "outputId": "ccf401bb-848d-4b5d-ffad-dfc5dc241332"
      },
      "outputs": [
        {
          "output_type": "stream",
          "name": "stdout",
          "text": [
            "Mounted at /content/drive\n"
          ]
        }
      ],
      "source": [
        "#if cloud\n",
        "from google.colab import drive\n",
        "drive.mount('/content/drive')\n",
        "dataFilePath = '/content/drive/My Drive/Publications/Neural Networks Research/makemore: next char prediction language model/names.txt'\n",
        "words = open(dataFilePath, 'r').read().splitlines() "
      ]
    },
    {
      "cell_type": "code",
      "execution_count": null,
      "metadata": {
        "colab": {
          "base_uri": "https://localhost:8080/"
        },
        "id": "TJRK_EOV1_8U",
        "outputId": "d2b4d126-75e1-49b1-ca74-ec391311a461"
      },
      "outputs": [
        {
          "output_type": "stream",
          "name": "stdout",
          "text": [
            "{1: 'a', 2: 'b', 3: 'c', 4: 'd', 5: 'e', 6: 'f', 7: 'g', 8: 'h', 9: 'i', 10: 'j', 11: 'k', 12: 'l', 13: 'm', 14: 'n', 15: 'o', 16: 'p', 17: 'q', 18: 'r', 19: 's', 20: 't', 21: 'u', 22: 'v', 23: 'w', 24: 'x', 25: 'y', 26: 'z', 0: '.'}\n"
          ]
        }
      ],
      "source": [
        "# encode chars in the words to integer\n",
        "chars = sorted(list(set(''.join(words))))\n",
        "stoi = {s:i+1 for i,s in enumerate(chars)}\n",
        "stoi['.'] = 0\n",
        "itos = {i:s for s,i in stoi.items()}\n",
        "print(itos)"
      ]
    },
    {
      "cell_type": "code",
      "execution_count": null,
      "metadata": {
        "colab": {
          "base_uri": "https://localhost:8080/"
        },
        "id": "xmiAYB4uhRHq",
        "outputId": "ddea7d05-586a-40da-fa59-3d64057eaf52"
      },
      "outputs": [
        {
          "output_type": "stream",
          "name": "stdout",
          "text": [
            "torch.Size([182625, 3]) torch.Size([182625])\n",
            "torch.Size([22655, 3]) torch.Size([22655])\n",
            "torch.Size([22866, 3]) torch.Size([22866])\n"
          ]
        }
      ],
      "source": [
        "block_size = 3 \n",
        "\n",
        "def build_dataset(words):  \n",
        "  X, Y = [], []\n",
        "  for w in words:\n",
        "    context = [0] * block_size\n",
        "    for ch in w + '.':\n",
        "      ix = stoi[ch]\n",
        "      X.append(context)\n",
        "      Y.append(ix)\n",
        "      context = context[1:] + [ix] \n",
        "\n",
        "  X = torch.tensor(X)\n",
        "  Y = torch.tensor(Y)\n",
        "  print(X.shape, Y.shape)\n",
        "  return X, Y\n",
        "\n",
        "import random\n",
        "random.seed(42)\n",
        "random.shuffle(words)\n",
        "n1 = int(0.8*len(words))\n",
        "n2 = int(0.9*len(words))\n",
        "\n",
        "Xtr, Ytr = build_dataset(words[:n1])\n",
        "Xdev, Ydev = build_dataset(words[n1:n2])\n",
        "Xtest, Ytest = build_dataset(words[n2:])"
      ]
    },
    {
      "cell_type": "code",
      "execution_count": null,
      "metadata": {
        "id": "M1Qqeel9tiRu"
      },
      "outputs": [],
      "source": [
        "C = torch.randn((27,10),requires_grad=True)\n",
        "W1 = torch.randn((30,300), requires_grad=True)\n",
        "b1 = torch.randn(300, requires_grad=True)\n",
        "W2 = torch.randn((300, 27), requires_grad=True)\n",
        "b2 = torch.randn(27, requires_grad=True)\n",
        "parameters = [C, W1, b1, W2, b2]"
      ]
    },
    {
      "cell_type": "code",
      "execution_count": null,
      "metadata": {
        "id": "8lCozkGetn0W"
      },
      "outputs": [],
      "source": [
        "stepi = []\n",
        "lrei = []\n",
        "lossi = []\n",
        "\n",
        "minibatch_size = 32\n",
        "dimension = 30\n",
        "num_0f_iteration = 50000\n",
        "\n",
        "for i in range(num_0f_iteration):\n",
        "  #pick up random mini batches of 32 row from the data set in the each iteration\n",
        "  rand_index = torch.randint(0, Xtr.shape[0], (minibatch_size,))\n",
        "\n",
        "  #forward pass\n",
        "  emb = C[Xtr[rand_index]]\n",
        "  logits = ((emb.view(-1,dimension) @ W1 + b1).tanh()) @ W2 + b2\n",
        "  loss = F.cross_entropy(logits, Ytr[rand_index])\n",
        "\n",
        "  #backward\n",
        "  for p in parameters:\n",
        "    p.grad = None\n",
        "  loss.backward()\n",
        "\n",
        "  #lr = lrs[i]\n",
        "  #tune the parameters\n",
        "  for p in parameters:\n",
        "    p.data += -0.1 * p.grad\n",
        "\n",
        "  stepi.append(i)\n",
        "  #lrei.append(lr)\n",
        "  lossi.append(loss.item())"
      ]
    },
    {
      "cell_type": "code",
      "execution_count": null,
      "metadata": {
        "id": "RD8RHifY6aIQ"
      },
      "outputs": [],
      "source": [
        "@torch.no_grad()\n",
        "def split_loss(split):\n",
        "  X, Y = {\n",
        "      'test' : { Xtest, Ytest },\n",
        "      'dev' : { Xdev, Ydev },\n",
        "      'train': { Xtr, Ytr }\n",
        "  }[split]\n",
        "  emb = C[X]\n",
        "  out_h = (emb.view(-1, dimension) @ W1 + b1).tanh()\n",
        "  logits = out_h @ W2 + b2\n",
        "  loss = F.cross_entropy(logits, Y)\n",
        "  print(f'{split} : {loss.item()}')"
      ]
    },
    {
      "cell_type": "code",
      "execution_count": null,
      "metadata": {
        "colab": {
          "base_uri": "https://localhost:8080/"
        },
        "id": "aInDhzZ87QVC",
        "outputId": "12fce437-1dbd-4b92-e7ae-414d4d34a582"
      },
      "outputs": [
        {
          "output_type": "stream",
          "name": "stdout",
          "text": [
            "dev : 2.5187299251556396\n",
            "train : 2.4845380783081055\n"
          ]
        }
      ],
      "source": [
        "split_loss('dev')\n",
        "split_loss('train')"
      ]
    },
    {
      "cell_type": "markdown",
      "metadata": {
        "id": "Q0xGS9_p81H0"
      },
      "source": [
        "If we print all the loss in the iteration the loss starts at very high number"
      ]
    },
    {
      "cell_type": "code",
      "execution_count": null,
      "metadata": {
        "colab": {
          "base_uri": "https://localhost:8080/",
          "height": 449
        },
        "id": "XWv5uObt94du",
        "outputId": "6a3b4eca-4f19-4135-e0ec-62c63270e0f6"
      },
      "outputs": [
        {
          "output_type": "execute_result",
          "data": {
            "text/plain": [
              "[<matplotlib.lines.Line2D at 0x7f7c38e6c520>]"
            ]
          },
          "metadata": {},
          "execution_count": 9
        },
        {
          "output_type": "display_data",
          "data": {
            "text/plain": [
              "<Figure size 640x480 with 1 Axes>"
            ],
            "image/png": "[encoded data removed]"
          },
          "metadata": {}
        }
      ],
      "source": [
        "plt.plot(stepi, lossi)"
      ]
    },
    {
      "cell_type": "markdown",
      "metadata": {
        "id": "Ax3WCT559-Lf"
      },
      "source": [
        "This makes the model iterate few times unnessesarily and makes the training process more innefficent. therefore we can start from a realistic loss\n",
        "\n",
        "since we have the 27 characters the releastic probability for the model would be somewhere close to 1/27"
      ]
    },
    {
      "cell_type": "code",
      "execution_count": null,
      "metadata": {
        "colab": {
          "base_uri": "https://localhost:8080/"
        },
        "id": "aOY2n6vM-XoI",
        "outputId": "3c2e75ac-4c05-4870-a286-ce6e7e656ca9"
      },
      "outputs": [
        {
          "output_type": "execute_result",
          "data": {
            "text/plain": [
              "tensor(3.2958)"
            ]
          },
          "metadata": {},
          "execution_count": 10
        }
      ],
      "source": [
        "#releastic loss would be close to\n",
        "-torch.tensor((1/27)).log()"
      ]
    },
    {
      "cell_type": "code",
      "execution_count": null,
      "metadata": {
        "id": "9Heook8NAE9T"
      },
      "outputs": [],
      "source": [
        "#modifyin the last layer's output logits to be very close to 0, then it would probabily\n",
        "n_emb = 10\n",
        "n_hidden = 200\n",
        "C = torch.randn((27,n_emb))\n",
        "# 228416 * 3 * 10\n",
        "# 228416 * 1 * 30\n",
        "\n",
        "W1 = torch.randn((n_emb*3,n_hidden))\n",
        "# 30 * 200\n",
        "# 1 * 200 \n",
        "b1 = torch.randn(n_hidden)\n",
        "W2 = torch.randn((n_hidden, 27)) * 0.01\n",
        "b2 = torch.randn(27) *0\n",
        "parameters = [C, W1, b1, W2, b2]\n",
        "for p in parameters:\n",
        "    p.requires_grad = True"
      ]
    },
    {
      "cell_type": "code",
      "execution_count": null,
      "metadata": {
        "id": "vDNL4RuHBRhq"
      },
      "outputs": [],
      "source": [
        "stepi = []\n",
        "lrei = []\n",
        "lossi = []\n",
        "\n",
        "minibatch_size = 32\n",
        "dimension = 30\n",
        "num_0f_iteration = 50000\n",
        "\n",
        "for i in range(num_0f_iteration):\n",
        "  #pick up random mini batches of 32 row from the data set in the each iteration\n",
        "  rand_index = torch.randint(0, Xtr.shape[0], (minibatch_size,))\n",
        "\n",
        "  #forward pass\n",
        "  emb = C[Xtr[rand_index]]\n",
        "  out_h_preactivation = (emb.view(-1,dimension) @ W1 + b1)\n",
        "  out_h = out_h_preactivation.tanh()\n",
        "  logits = (out_h) @ W2 + b2\n",
        "  loss = F.cross_entropy(logits, Ytr[rand_index])\n",
        "\n",
        "  #backward\n",
        "  for p in parameters:\n",
        "    p.grad = None\n",
        "  loss.backward()\n",
        "\n",
        "  #lr = lrs[i]\n",
        "  #tune the parameters\n",
        "  for p in parameters:\n",
        "    p.data += -0.1 * p.grad\n",
        "\n",
        "  stepi.append(i)\n",
        "  #lrei.append(lr)\n",
        "  lossi.append(loss.item())"
      ]
    },
    {
      "cell_type": "code",
      "execution_count": null,
      "metadata": {
        "colab": {
          "base_uri": "https://localhost:8080/",
          "height": 452
        },
        "id": "SO1Fgv1SBVYI",
        "outputId": "02c05871-de77-436a-cd1e-74d26b7945e8"
      },
      "outputs": [
        {
          "output_type": "execute_result",
          "data": {
            "text/plain": [
              "[<matplotlib.lines.Line2D at 0x7f7c38d7b8b0>]"
            ]
          },
          "metadata": {},
          "execution_count": 13
        },
        {
          "output_type": "display_data",
          "data": {
            "text/plain": [
              "<Figure size 640x480 with 1 Axes>"
            ],
            "image/png": "[encoded data removed]"
          },
          "metadata": {}
        }
      ],
      "source": [
        "plt.plot(stepi, lossi)"
      ]
    },
    {
      "cell_type": "markdown",
      "metadata": {
        "id": "mf9X9zoRFlBI"
      },
      "source": [
        "Now if we look at the output from the hidden layers are basically passing through the tanh function. let's see the values which are coming out from this tanh activation in a histogram "
      ]
    },
    {
      "cell_type": "code",
      "execution_count": null,
      "metadata": {
        "colab": {
          "base_uri": "https://localhost:8080/",
          "height": 499
        },
        "id": "xaQDiVjXGbUE",
        "outputId": "1f657d02-27b3-4321-d242-84af3a5eefa0"
      },
      "outputs": [
        {
          "output_type": "execute_result",
          "data": {
            "text/plain": [
              "(array([2653.,  193.,  146.,  115.,   99.,  132.,  123.,  150.,  213.,\n",
              "        2576.]),\n",
              " array([-1. , -0.8, -0.6, -0.4, -0.2,  0. ,  0.2,  0.4,  0.6,  0.8,  1. ]),\n",
              " <BarContainer object of 10 artists>)"
            ]
          },
          "metadata": {},
          "execution_count": 14
        },
        {
          "output_type": "display_data",
          "data": {
            "text/plain": [
              "<Figure size 640x480 with 1 Axes>"
            ],
            "image/png": "[encoded data removed]"
          },
          "metadata": {}
        }
      ],
      "source": [
        "plt.hist(out_h.view(-1).tolist())"
      ]
    },
    {
      "cell_type": "markdown",
      "metadata": {
        "id": "sC_oDj93bgrz"
      },
      "source": [
        "Since most of them are close to 1 and -1, it's not a very good sign"
      ]
    },
    {
      "cell_type": "code",
      "execution_count": null,
      "metadata": {
        "colab": {
          "base_uri": "https://localhost:8080/",
          "height": 534
        },
        "id": "A8vUHYFYURqa",
        "outputId": "b49c5efa-7f85-4571-b2d4-4b370db61bc6"
      },
      "outputs": [
        {
          "output_type": "execute_result",
          "data": {
            "text/plain": [
              "(array([   5.,   75.,  398., 1076., 1975., 1752.,  872.,  209.,   34.,\n",
              "           4.]),\n",
              " array([-21.45720863, -17.05615349, -12.65509834,  -8.2540432 ,\n",
              "         -3.85298805,   0.54806709,   4.94912224,   9.35017738,\n",
              "         13.75123253,  18.15228767,  22.55334282]),\n",
              " <BarContainer object of 10 artists>)"
            ]
          },
          "metadata": {},
          "execution_count": 15
        },
        {
          "output_type": "display_data",
          "data": {
            "text/plain": [
              "<Figure size 640x480 with 1 Axes>"
            ],
            "image/png": "[encoded data removed]"
          },
          "metadata": {}
        }
      ],
      "source": [
        "plt.hist(out_h_preactivation.view(-1).tolist())"
      ]
    },
    {
      "cell_type": "markdown",
      "metadata": {
        "id": "rFcmf1wNavxI"
      },
      "source": [
        "The derevative of the tanh is going to be 1 - tanh**2. So, the values which are in the tails which is 1 or -1 from the outcome will be staying in very close to 0 when we backpropogate the tanh function. therefore it never gonna get activated  "
      ]
    },
    {
      "cell_type": "markdown",
      "metadata": {
        "id": "V4EFDb4katbj"
      },
      "source": [
        "![image.png](data:image/png;base64,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)"
      ]
    },
    {
      "cell_type": "markdown",
      "metadata": {
        "id": "jRUUHxuqWIzu"
      },
      "source": [
        "Let's analyze this with respect to our training mini batch during the last iteration"
      ]
    },
    {
      "cell_type": "code",
      "execution_count": null,
      "metadata": {
        "colab": {
          "base_uri": "https://localhost:8080/",
          "height": 327
        },
        "id": "YuMytJClVg6N",
        "outputId": "94032c92-6334-4ff5-aac4-f572b875722b"
      },
      "outputs": [
        {
          "output_type": "execute_result",
          "data": {
            "text/plain": [
              "<matplotlib.image.AxesImage at 0x7f7c38aa8640>"
            ]
          },
          "metadata": {},
          "execution_count": 16
        },
        {
          "output_type": "display_data",
          "data": {
            "text/plain": [
              "<Figure size 2000x1000 with 1 Axes>"
            ],
            "image/png": "[encoded data removed]"
          },
          "metadata": {}
        }
      ],
      "source": [
        "plt.figure(figsize=(20,10))\n",
        "plt.imshow(out_h.abs() > 0.99, cmap='gray', interpolation='nearest')\n",
        "\n",
        "#here x axis is going to be the neuron in the hidden layer\n",
        "#y axis is going to be the concatinated emb values going through the neurons\n",
        "#the white color boxes are going to be the ones which doesn't activate the neurons, in the other words absolute value of out_h is higher than 0.99 and falling in the flat side of tanh"
      ]
    },
    {
      "cell_type": "markdown",
      "metadata": {
        "id": "p-BSV-9xc4II"
      },
      "source": [
        "There we can't see the flat all complete white boxes in any columns. which is kind of a good news \n",
        "\n",
        "This conncept will be applicable for other activation non linear activations such as sigmoid, tanh, relu, etc. when the value get fall into flat region of the activation function it's never gonna activbate the neurons\n",
        "\n",
        "\n",
        "This issue can be fixed by tunning the initial weights and the bias of the layer to be close to zero or very small. because the out_h is coming from the contact emb after going through the weights and bias"
      ]
    },
    {
      "cell_type": "code",
      "execution_count": null,
      "metadata": {
        "id": "f5gGZrRYgvA9"
      },
      "outputs": [],
      "source": [
        "n_emb = 10\n",
        "n_hidden = 200\n",
        "C = torch.randn((27,n_emb))\n",
        "W1 = torch.randn((n_emb*3,n_hidden)) * 0.1\n",
        "b1 = torch.randn(n_hidden) * 0.01\n",
        "W2 = torch.randn((n_hidden, 27)) * 0.01\n",
        "b2 = torch.randn(27) *0\n",
        "parameters = [C, W1, b1, W2, b2]\n",
        "for p in parameters:\n",
        "    p.requires_grad = True\n",
        "\n",
        "stepi = []\n",
        "lrei = []\n",
        "lossi = []\n",
        "\n",
        "minibatch_size = 32\n",
        "dimension = 30\n",
        "num_0f_iteration = 50000\n",
        "\n",
        "for i in range(num_0f_iteration):\n",
        "  #pick up random mini batches of 32 row from the data set in the each iteration\n",
        "  rand_index = torch.randint(0, Xtr.shape[0], (minibatch_size,))\n",
        "\n",
        "  #forward pass\n",
        "  emb = C[Xtr[rand_index]]\n",
        "  out_h_preactivation = (emb.view(-1,dimension) @ W1 + b1)\n",
        "  out_h = out_h_preactivation.tanh()\n",
        "  logits = (out_h) @ W2 + b2\n",
        "  loss = F.cross_entropy(logits, Ytr[rand_index])\n",
        "\n",
        "  #backward\n",
        "  for p in parameters:\n",
        "    p.grad = None\n",
        "  loss.backward()\n",
        "\n",
        "  #lr = lrs[i]\n",
        "  #tune the parameters\n",
        "  for p in parameters:\n",
        "    p.data += -0.1 * p.grad\n",
        "\n",
        "  stepi.append(i)\n",
        "  #lrei.append(lr)\n",
        "  lossi.append(loss.item())\n",
        "\n"
      ]
    },
    {
      "cell_type": "code",
      "execution_count": null,
      "metadata": {
        "colab": {
          "base_uri": "https://localhost:8080/",
          "height": 534
        },
        "id": "qU-YtNxPhQ_J",
        "outputId": "9db5f59e-02bb-4778-87d5-9d5175164dac"
      },
      "outputs": [
        {
          "output_type": "execute_result",
          "data": {
            "text/plain": [
              "(array([1051.,  367.,  329.,  407., 1142., 1199.,  363.,  282.,  316.,\n",
              "         944.]),\n",
              " array([-9.99999344e-01, -7.99999410e-01, -5.99999475e-01, -3.99999541e-01,\n",
              "        -1.99999607e-01,  3.27825546e-07,  2.00000262e-01,  4.00000197e-01,\n",
              "         6.00000131e-01,  8.00000066e-01,  1.00000000e+00]),\n",
              " <BarContainer object of 10 artists>)"
            ]
          },
          "metadata": {},
          "execution_count": 18
        },
        {
          "output_type": "display_data",
          "data": {
            "text/plain": [
              "<Figure size 640x480 with 1 Axes>"
            ],
            "image/png": "[encoded data removed]"
          },
          "metadata": {}
        }
      ],
      "source": [
        "plt.hist(out_h.view(-1).tolist())"
      ]
    },
    {
      "cell_type": "code",
      "execution_count": null,
      "metadata": {
        "colab": {
          "base_uri": "https://localhost:8080/",
          "height": 327
        },
        "id": "xaQdsp3ohRiO",
        "outputId": "df26c26c-8d22-4482-b674-8dfccd7c8dbf"
      },
      "outputs": [
        {
          "output_type": "execute_result",
          "data": {
            "text/plain": [
              "<matplotlib.image.AxesImage at 0x7f7c3895bfd0>"
            ]
          },
          "metadata": {},
          "execution_count": 19
        },
        {
          "output_type": "display_data",
          "data": {
            "text/plain": [
              "<Figure size 2000x1000 with 1 Axes>"
            ],
            "image/png": "[encoded data removed]"
          },
          "metadata": {}
        }
      ],
      "source": [
        "plt.figure(figsize=(20,10))\n",
        "plt.imshow(out_h.abs() > 0.99, cmap='gray', interpolation='nearest')"
      ]
    },
    {
      "cell_type": "code",
      "execution_count": null,
      "metadata": {
        "colab": {
          "base_uri": "https://localhost:8080/"
        },
        "id": "JkmOA-qciXip",
        "outputId": "282b7d5d-1051-4b13-c94d-4b45c58383b5"
      },
      "outputs": [
        {
          "output_type": "stream",
          "name": "stdout",
          "text": [
            "dev : 2.200483560562134\n",
            "train : 2.1683590412139893\n"
          ]
        }
      ],
      "source": [
        "#when we calculate the loss, now we can see the improvements\n",
        "split_loss('dev')\n",
        "split_loss('train')"
      ]
    },
    {
      "cell_type": "markdown",
      "metadata": {
        "id": "pYQkxcj6E_3h"
      },
      "source": [
        "But the multipliers to scale initial down parameters are not to be hardcoded. therefore we need to identify an automated way to do this"
      ]
    },
    {
      "cell_type": "code",
      "execution_count": null,
      "metadata": {
        "colab": {
          "base_uri": "https://localhost:8080/",
          "height": 914
        },
        "id": "W3zP7y4gE910",
        "outputId": "6efc9ecf-aee7-4752-d4ec-5232c5ddff13"
      },
      "outputs": [
        {
          "output_type": "stream",
          "name": "stdout",
          "text": [
            "x: mean - -0.005722271744161844 sdx - 1.004833698272705\n",
            "y: mean - -0.0028853274416178465 sdy - 0.9649483561515808\n"
          ]
        },
        {
          "output_type": "execute_result",
          "data": {
            "text/plain": [
              "(array([4.90925811e-05, 1.71824034e-04, 1.71824034e-04, 2.94555487e-04,\n",
              "        4.66379520e-04, 7.11842426e-04, 9.57305331e-04, 2.23371244e-03,\n",
              "        3.24011035e-03, 5.37563763e-03, 8.37028508e-03, 1.32304506e-02,\n",
              "        1.94652084e-02, 2.94310024e-02, 4.56315541e-02, 6.38203554e-02,\n",
              "        9.02567104e-02, 1.29309859e-01, 1.71799488e-01, 2.31422427e-01,\n",
              "        2.86258840e-01, 3.46888178e-01, 3.97183527e-01, 4.36555777e-01,\n",
              "        4.43747841e-01, 4.29191890e-01, 3.88813242e-01, 3.32332228e-01,\n",
              "        2.76636695e-01, 2.11392654e-01, 1.64263776e-01, 1.22854184e-01,\n",
              "        8.44637858e-02, 5.97211249e-02, 3.76540097e-02, 2.66081790e-02,\n",
              "        1.68633016e-02, 1.19049509e-02, 7.33934087e-03, 4.36923972e-03,\n",
              "        3.16647148e-03, 1.71824034e-03, 1.32549969e-03, 8.10027588e-04,\n",
              "        3.68194358e-04, 2.70009196e-04, 9.81851622e-05, 0.00000000e+00,\n",
              "        2.45462906e-05, 2.45462906e-05]),\n",
              " array([-4.96962976, -4.765933  , -4.56223623, -4.35853947, -4.1548427 ,\n",
              "        -3.95114594, -3.74744917, -3.5437524 , -3.34005564, -3.13635887,\n",
              "        -2.93266211, -2.72896534, -2.52526857, -2.32157181, -2.11787504,\n",
              "        -1.91417828, -1.71048151, -1.50678474, -1.30308798, -1.09939121,\n",
              "        -0.89569445, -0.69199768, -0.48830091, -0.28460415, -0.08090738,\n",
              "         0.12278938,  0.32648615,  0.53018291,  0.73387968,  0.93757645,\n",
              "         1.14127321,  1.34496998,  1.54866674,  1.75236351,  1.95606028,\n",
              "         2.15975704,  2.36345381,  2.56715057,  2.77084734,  2.97454411,\n",
              "         3.17824087,  3.38193764,  3.5856344 ,  3.78933117,  3.99302794,\n",
              "         4.1967247 ,  4.40042147,  4.60411823,  4.807815  ,  5.01151176,\n",
              "         5.21520853]),\n",
              " <BarContainer object of 50 artists>)"
            ]
          },
          "metadata": {},
          "execution_count": 21
        },
        {
          "output_type": "display_data",
          "data": {
            "text/plain": [
              "<Figure size 2000x500 with 2 Axes>"
            ],
            "image/png": "[encoded data removed]"
          },
          "metadata": {}
        }
      ],
      "source": [
        "x = torch.randn(1000,10) \n",
        "w = torch.randn(10,200) * 0.3\n",
        "y = x @ w\n",
        "print(f'x: mean - {x.mean()} sdx - {x.std()}')\n",
        "print(f'y: mean - {y.mean()} sdy - {y.std()}')\n",
        "\n",
        "plt.figure(figsize=(20,5))\n",
        "plt.subplot(121)\n",
        "plt.hist(x.view(-1).tolist(), 50, density = True)\n",
        "plt.subplot(122)\n",
        "plt.hist(y.view(-1).tolist(), 50, density = True)"
      ]
    },
    {
      "cell_type": "markdown",
      "metadata": {
        "id": "8hB26TaCsUee"
      },
      "source": [
        "A Gaussian distribution, also known as a normal distribution, is a probability distribution that is commonly used to model natural phenomena and data in many fields of science and engineering. The distribution is characterized by its bell-shaped curve that is symmetric around the mean.\n",
        "\n",
        "The Gaussian distribution has two parameters: the mean (μ) and the standard deviation (σ). The mean is the average value of the distribution and represents the center of the curve. The standard deviation is a measure of the spread or dispersion of the data around the mean.\n",
        "\n",
        "In a Gaussian distribution, approximately 68% of the data falls within one standard deviation of the mean, approximately 95% of the data falls within two standard deviations of the mean, and approximately 99.7% of the data falls within three standard deviations of the mean. This is known as the 68-95-99.7 rule or the empirical rule.\n",
        "\n",
        "Many natural phenomena and measurements follow a Gaussian distribution, including the heights of people, weights of objects, errors in measurements, and many other physical and biological measurements. Therefore, the Gaussian distribution is widely used in statistical modeling, data analysis, and many other applications.\n",
        "\n",
        "WHY WE NEED TO USE GUSSIAN DISTRIBUTION: https://arxiv.org/pdf/1502.01852.pdf"
      ]
    },
    {
      "cell_type": "code",
      "execution_count": null,
      "metadata": {
        "colab": {
          "base_uri": "https://localhost:8080/",
          "height": 914
        },
        "id": "vzarqbRPsV7p",
        "outputId": "035230c9-f367-4513-a013-637c4895267f"
      },
      "outputs": [
        {
          "output_type": "stream",
          "name": "stdout",
          "text": [
            "x: mean - 0.007140063680708408 sdx - 1.0014582872390747\n",
            "y: mean - 0.0016750848153606057 sdy - 0.9908379316329956\n"
          ]
        },
        {
          "output_type": "execute_result",
          "data": {
            "text/plain": [
              "(array([4.50840454e-05, 0.00000000e+00, 9.01680909e-05, 2.02878205e-04,\n",
              "        2.47962250e-04, 5.18466523e-04, 6.53718659e-04, 1.51031552e-03,\n",
              "        2.27674430e-03, 3.85468589e-03, 6.53718659e-03, 1.15865997e-02,\n",
              "        1.93410555e-02, 2.88763311e-02, 4.49037093e-02, 6.83699549e-02,\n",
              "        9.82606771e-02, 1.35004174e-01, 1.81846497e-01, 2.40591009e-01,\n",
              "        3.06954723e-01, 3.59500178e-01, 4.12113259e-01, 4.26224566e-01,\n",
              "        4.22708010e-01, 3.89052770e-01, 3.40609963e-01, 2.76139778e-01,\n",
              "        2.13698375e-01, 1.59890567e-01, 1.18999338e-01, 8.23460090e-02,\n",
              "        5.80907926e-02, 3.53909757e-02, 2.40748803e-02, 1.52834914e-02,\n",
              "        8.97172504e-03, 5.61296366e-03, 3.47147150e-03, 1.87098789e-03,\n",
              "        1.32997934e-03, 5.41008545e-04, 3.60672364e-04, 1.57794159e-04,\n",
              "        1.35252136e-04, 6.76260682e-05, 4.50840454e-05, 2.25420227e-05,\n",
              "        0.00000000e+00, 2.25420227e-05]),\n",
              " array([-5.2723403 , -5.05053234, -4.82872438, -4.60691643, -4.38510847,\n",
              "        -4.16330051, -3.94149256, -3.7196846 , -3.49787664, -3.27606869,\n",
              "        -3.05426073, -2.83245277, -2.61064482, -2.38883686, -2.1670289 ,\n",
              "        -1.94522095, -1.72341299, -1.50160503, -1.27979708, -1.05798912,\n",
              "        -0.83618116, -0.61437321, -0.39256525, -0.17075729,  0.05105066,\n",
              "         0.27285862,  0.49466658,  0.71647453,  0.93828249,  1.16009045,\n",
              "         1.3818984 ,  1.60370636,  1.82551432,  2.04732227,  2.26913023,\n",
              "         2.49093819,  2.71274614,  2.9345541 ,  3.15636206,  3.37817001,\n",
              "         3.59997797,  3.82178593,  4.04359388,  4.26540184,  4.4872098 ,\n",
              "         4.70901775,  4.93082571,  5.15263367,  5.37444162,  5.59624958,\n",
              "         5.81805754]),\n",
              " <BarContainer object of 50 artists>)"
            ]
          },
          "metadata": {},
          "execution_count": 22
        },
        {
          "output_type": "display_data",
          "data": {
            "text/plain": [
              "<Figure size 2000x500 with 2 Axes>"
            ],
            "image/png": "[encoded data removed]"
          },
          "metadata": {}
        }
      ],
      "source": [
        "x = torch.randn(1000,10) \n",
        "w = torch.randn(10,200) / 10 ** 0.5\n",
        "y = x @ w\n",
        "print(f'x: mean - {x.mean()} sdx - {x.std()}')\n",
        "print(f'y: mean - {y.mean()} sdy - {y.std()}')\n",
        "\n",
        "plt.figure(figsize=(20,5))\n",
        "plt.subplot(121)\n",
        "plt.hist(x.view(-1).tolist(), 50, density = True)\n",
        "plt.subplot(122)\n",
        "plt.hist(y.view(-1).tolist(), 50, density = True)"
      ]
    },
    {
      "cell_type": "markdown",
      "metadata": {
        "id": "zHMql62jtpNq"
      },
      "source": [
        "we can use torch.nn.init.kaiming_normal_()"
      ]
    },
    {
      "cell_type": "code",
      "execution_count": null,
      "metadata": {
        "colab": {
          "base_uri": "https://localhost:8080/"
        },
        "id": "ExwNI4wZtz1w",
        "outputId": "1fe09e47-b0de-4e03-eaf5-7f571cb38916"
      },
      "outputs": [
        {
          "output_type": "execute_result",
          "data": {
            "text/plain": [
              "0.3042903097250923"
            ]
          },
          "metadata": {},
          "execution_count": 23
        }
      ],
      "source": [
        "#so the number is for tanh is going to be \n",
        "(5/3) / 30**0.5"
      ]
    },
    {
      "cell_type": "markdown",
      "metadata": {
        "id": "3tBnM5yrv1bu"
      },
      "source": [
        "This is not really very important these days as the optimization we use later on"
      ]
    },
    {
      "cell_type": "markdown",
      "metadata": {
        "id": "klxLtXrKv801"
      },
      "source": [
        "Batch normalization: https://arxiv.org/pdf/1502.03167.pdf\n",
        "\n",
        "This paper eloborate the fact that tuning the preactivation to be gussian and taking the preactivation and making it gusssian are two different operations\n"
      ]
    },
    {
      "cell_type": "code",
      "execution_count": null,
      "metadata": {
        "id": "xyTg-XZRwD39"
      },
      "outputs": [],
      "source": [
        "n_emb = 10\n",
        "n_hidden = 200\n",
        "C = torch.randn((27,n_emb))\n",
        "W1 = torch.randn((n_emb*3,n_hidden)) * (5/3) / 30**0.5\n",
        "b1 = torch.randn(n_hidden) * 0.01\n",
        "W2 = torch.randn((n_hidden, 27)) * 0.01\n",
        "b2 = torch.randn(27) *0\n",
        "\n",
        "#scalling shift\n",
        "bngain = torch.ones(1, n_hidden)\n",
        "bnbias = torch.zeros(1, n_hidden)\n",
        "\n",
        "parameters = [C, W1, b1, W2, b2, bngain, bnbias]\n",
        "for p in parameters:\n",
        "    p.requires_grad = True\n",
        "\n",
        "stepi = []\n",
        "lrei = []\n",
        "lossi = []\n",
        "\n",
        "minibatch_size = 32\n",
        "dimension = 30\n",
        "num_0f_iteration = 50000\n",
        "\n",
        "for i in range(num_0f_iteration):\n",
        "  #pick up random mini batches of 32 row from the data set in the each iteration\n",
        "  rand_index = torch.randint(0, Xtr.shape[0], (minibatch_size,))\n",
        "\n",
        "  #forward pass\n",
        "  emb = C[Xtr[rand_index]]\n",
        "  out_h_preactivation = (emb.view(-1,dimension) @ W1 + b1)\n",
        "\n",
        "  #normalize pre activation to be gussuan distribution\n",
        "  out_h_preactivation = (bngain * (out_h_preactivation - out_h_preactivation.mean(0, keepdim=True)) / out_h_preactivation.std(0, keepdim=True)) + bnbias\n",
        "\n",
        "  out_h = out_h_preactivation.tanh()\n",
        "  logits = (out_h) @ W2 + b2\n",
        "  loss = F.cross_entropy(logits, Ytr[rand_index])\n",
        "\n",
        "  #backward\n",
        "  for p in parameters:\n",
        "    p.grad = None\n",
        "  loss.backward()\n",
        "\n",
        "  #lr = lrs[i]\n",
        "  #tune the parameters\n",
        "  for p in parameters:\n",
        "    p.data += -0.1 * p.grad\n",
        "\n",
        "  stepi.append(i)\n",
        "  #lrei.append(lr)\n",
        "  lossi.append(loss.item())\n",
        "\n"
      ]
    },
    {
      "cell_type": "code",
      "execution_count": null,
      "metadata": {
        "id": "9PUiQPIYytSa"
      },
      "outputs": [],
      "source": [
        "@torch.no_grad()\n",
        "def split_loss(split):\n",
        "  X, Y = {\n",
        "      'test' : { Xtest, Ytest },\n",
        "      'dev' : { Xdev, Ydev },\n",
        "      'train': { Xtr, Ytr }\n",
        "  }[split]\n",
        "  emb = C[X]\n",
        "  out_h_preactivation = (emb.view(-1, dimension) @ W1 + b1)\n",
        "  out_h_preactivation = (bngain * (out_h_preactivation - out_h_preactivation.mean(0, keepdim=True)) / out_h_preactivation.std(0, keepdim=True)) + bnbias\n",
        "  out_h = out_h_preactivation.tanh()\n",
        "  logits = out_h @ W2 + b2\n",
        "  loss = F.cross_entropy(logits, Y)\n",
        "  print(f'{split} : {loss.item()}')"
      ]
    },
    {
      "cell_type": "code",
      "execution_count": null,
      "metadata": {
        "colab": {
          "base_uri": "https://localhost:8080/"
        },
        "id": "5Q4t4t2VxQ_2",
        "outputId": "72dc46ff-1d12-441f-f205-7c11b9046ed2"
      },
      "outputs": [
        {
          "output_type": "stream",
          "name": "stdout",
          "text": [
            "train : 2.177306652069092\n",
            "dev : 2.2004120349884033\n"
          ]
        }
      ],
      "source": [
        "split_loss('train')\n",
        "split_loss('dev')"
      ]
    },
    {
      "cell_type": "code",
      "source": [
        "#we can have a unified training gain and the bias for batch\n",
        "with torch.no_grad():\n",
        "  emb = C[Xtr]\n",
        "  h_preactivate = emb.view(emb.shape[0], dimension) @ W1 + b1\n",
        "  bnmean = h_preactivate.mean(0, keepdim=True)\n",
        "  bnstd = h_preactivate.std(0, keepdim=True)"
      ],
      "metadata": {
        "id": "KXlawqXqkrwE"
      },
      "execution_count": null,
      "outputs": []
    },
    {
      "cell_type": "code",
      "source": [
        "@torch.no_grad()\n",
        "def split_loss(split):\n",
        "  X, Y = {\n",
        "      'test' : { Xtest, Ytest },\n",
        "      'dev' : { Xdev, Ydev },\n",
        "      'train': { Xtr, Ytr }\n",
        "  }[split]\n",
        "  emb = C[X]\n",
        "  out_h_preactivation = (emb.view(-1, dimension) @ W1 + b1)\n",
        "  out_h_preactivation = (bngain * (out_h_preactivation - bnmean) / bnstd) + bnbias\n",
        "  out_h = out_h_preactivation.tanh()\n",
        "  logits = out_h @ W2 + b2\n",
        "  loss = F.cross_entropy(logits, Y)\n",
        "  print(f'{split} : {loss.item()}')\n",
        "\n",
        "split_loss('train')\n",
        "split_loss('dev')"
      ],
      "metadata": {
        "colab": {
          "base_uri": "https://localhost:8080/"
        },
        "id": "7O4vajAbksZt",
        "outputId": "026eba26-8aa1-473b-a76d-fd6193ae317f"
      },
      "execution_count": null,
      "outputs": [
        {
          "output_type": "stream",
          "name": "stdout",
          "text": [
            "train : 2.177306652069092\n",
            "dev : 2.200575113296509\n"
          ]
        }
      ]
    },
    {
      "cell_type": "code",
      "source": [
        "#we can do the same as running mean and running std in the process of converging \n",
        "n_emb = 10\n",
        "n_hidden = 200\n",
        "C = torch.randn((27,n_emb))\n",
        "W1 = torch.randn((n_emb*3,n_hidden)) * (5/3) / 30**0.5\n",
        "b1 = torch.randn(n_hidden) * 0.01\n",
        "W2 = torch.randn((n_hidden, 27)) * 0.01\n",
        "b2 = torch.randn(27) *0\n",
        "\n",
        "#initialise it to be a gussian\n",
        "bnmean_running = torch.zeros(1, n_hidden)\n",
        "bnstd_running = torch.ones(1, n_hidden)\n",
        "\n",
        "#scalling shift\n",
        "bngain = torch.ones(1, n_hidden)\n",
        "bnbias = torch.zeros(1, n_hidden)\n",
        "\n",
        "parameters = [C, W1, b1, W2, b2, bngain, bnbias]\n",
        "for p in parameters:\n",
        "    p.requires_grad = True\n",
        "\n",
        "stepi = []\n",
        "lrei = []\n",
        "lossi = []\n",
        "\n",
        "minibatch_size = 32\n",
        "dimension = 30\n",
        "num_0f_iteration = 50000\n",
        "\n",
        "for i in range(num_0f_iteration):\n",
        "  #pick up random mini batches of 32 row from the data set in the each iteration\n",
        "  rand_index = torch.randint(0, Xtr.shape[0], (minibatch_size,))\n",
        "\n",
        "  #forward pass\n",
        "  emb = C[Xtr[rand_index]]\n",
        "  out_h_preactivation = (emb.view(-1,dimension) @ W1 + b1)\n",
        "  bnmeani = out_h_preactivation.mean(0, keepdim=True)\n",
        "  bnstdi = out_h_preactivation.std(0, keepdim=True)\n",
        "\n",
        "  #normalize pre activation to be gussuan distribution\n",
        "  out_h_preactivation = (bngain * (out_h_preactivation - bnmeani) / bnstdi) + bnbias\n",
        "\n",
        "  with torch.no_grad():\n",
        "    bnmean_running = 0.999 * bnmean_running + 0.001 * bnmeani\n",
        "    bnstd_running = 0.999 * bnstd_running + 0.001 * bnstdi\n",
        "\n",
        "  out_h = out_h_preactivation.tanh()\n",
        "  logits = (out_h) @ W2 + b2\n",
        "  loss = F.cross_entropy(logits, Ytr[rand_index])\n",
        "\n",
        "  #backward\n",
        "  for p in parameters:\n",
        "    p.grad = None\n",
        "  loss.backward()\n",
        "\n",
        "  #lr = lrs[i]\n",
        "  #tune the parameters\n",
        "  for p in parameters:\n",
        "    p.data += -0.1 * p.grad\n",
        "\n",
        "  stepi.append(i)\n",
        "  #lrei.append(lr)\n",
        "  lossi.append(loss.item())\n",
        "\n"
      ],
      "metadata": {
        "id": "0MYy5z2gk-e1"
      },
      "execution_count": null,
      "outputs": []
    },
    {
      "cell_type": "code",
      "source": [
        "#we can have a unified training gain and the bias for batch\n",
        "with torch.no_grad():\n",
        "  emb = C[Xtr]\n",
        "  h_preactivate = emb.view(emb.shape[0], dimension) @ W1 + b1\n",
        "  bnmean = h_preactivate.mean(0, keepdim=True)\n",
        "  bnstd = h_preactivate.std(0, keepdim=True)\n",
        "bnmean"
      ],
      "metadata": {
        "colab": {
          "base_uri": "https://localhost:8080/"
        },
        "id": "yQIZLrGbnnKD",
        "outputId": "134a1e30-8884-401b-8ae9-6e976cc76c34"
      },
      "execution_count": null,
      "outputs": [
        {
          "output_type": "execute_result",
          "data": {
            "text/plain": [
              "tensor([[ 0.4478, -0.7780, -0.1741, -0.1745, -0.6885,  0.6972,  0.5403,  0.7098,\n",
              "          0.7948, -0.4666, -0.0230, -0.1727, -0.6171,  0.9474, -0.2705,  0.3432,\n",
              "          0.1277, -0.9243, -0.4646,  1.3677,  0.1123,  0.7913,  0.1779,  0.8080,\n",
              "          0.0693, -1.2969, -0.7230, -1.3133,  0.2198,  0.9579,  0.0564, -1.3792,\n",
              "         -0.2021,  0.2237, -1.1382, -0.4598,  0.3582, -0.7688,  0.1732, -0.3336,\n",
              "          1.1064, -0.7920,  0.3561, -0.6859,  0.0729,  0.1761, -0.5090,  0.2803,\n",
              "         -0.1433,  0.3499, -0.2704,  0.5168,  0.0569,  0.2630, -0.1411,  0.6943,\n",
              "          0.2171,  0.4540,  0.3542,  0.6009, -1.0366, -0.7583, -1.1772,  0.4815,\n",
              "          0.1649, -1.2138, -0.6793,  0.5231, -0.1489, -0.5297,  0.2829, -0.4696,\n",
              "          1.2718,  0.9800,  0.8923, -0.7821,  0.4631,  0.4592, -0.1195, -0.5921,\n",
              "         -0.5011,  0.2811, -0.6935,  0.0632,  0.0626,  0.1427,  0.6567, -0.5660,\n",
              "          0.9236,  0.1707,  0.3898,  1.8039,  0.1313, -0.4115, -0.0202, -0.7091,\n",
              "         -0.3385,  1.0987, -0.2053,  0.0295,  0.0988,  0.0965, -0.3656, -0.1616,\n",
              "         -0.4615,  0.1809, -0.0646, -0.1310,  0.6208,  0.6012, -0.4312, -0.7596,\n",
              "         -0.3867, -1.0393,  0.7998, -0.2219,  0.3990,  0.1136,  0.2034, -0.3900,\n",
              "          0.0998,  0.0927, -0.5004,  0.5766, -0.3130, -0.2594, -0.0677,  0.9733,\n",
              "         -0.3197,  0.0751,  0.5669, -1.1350, -0.0620,  0.4947, -0.8765,  0.9890,\n",
              "          1.2352, -0.4478, -0.2800, -0.5891, -1.0278, -0.0622, -0.4933, -0.5220,\n",
              "         -0.9518, -0.5805,  0.5739,  0.2037,  1.2895, -0.4529,  0.5594,  0.0432,\n",
              "         -1.0631, -0.9828,  0.7212, -0.7116,  0.4909,  0.7653,  0.2863,  0.2546,\n",
              "         -0.6296, -0.9998,  0.3840,  0.5236, -0.1539, -1.3118,  0.5303, -0.1364,\n",
              "         -0.1759, -1.1055, -0.1116,  1.0246, -0.0241, -0.7747,  0.7485,  0.2913,\n",
              "          0.7520,  0.2386, -0.3875, -0.1979, -0.4086, -0.7234, -0.5620,  0.4300,\n",
              "          0.9026,  1.1777, -1.0147,  1.2444, -1.0749, -0.4645, -0.2888, -0.2864,\n",
              "          0.2640, -0.2352, -0.2606, -0.2356, -0.6726, -0.1701, -0.0537,  0.6510]])"
            ]
          },
          "metadata": {},
          "execution_count": 30
        }
      ]
    },
    {
      "cell_type": "code",
      "source": [
        "bnmean_running"
      ],
      "metadata": {
        "colab": {
          "base_uri": "https://localhost:8080/"
        },
        "id": "lRC7KBFYmnXq",
        "outputId": "ad9abcd0-f93f-4471-c6a0-9b30049f2f5e"
      },
      "execution_count": null,
      "outputs": [
        {
          "output_type": "execute_result",
          "data": {
            "text/plain": [
              "tensor([[ 0.4170, -0.8039, -0.1736, -0.1511, -0.7099,  0.6650,  0.5277,  0.6891,\n",
              "          0.8545, -0.5004, -0.0140, -0.1461, -0.5961,  0.9347, -0.2662,  0.3034,\n",
              "          0.1460, -0.9096, -0.4796,  1.3639,  0.0989,  0.8146,  0.1431,  0.7832,\n",
              "          0.0801, -1.3312, -0.7249, -1.2674,  0.2583,  0.9045,  0.0270, -1.3612,\n",
              "         -0.1236,  0.1964, -1.1203, -0.4948,  0.3100, -0.7381,  0.1506, -0.4080,\n",
              "          1.1024, -0.7255,  0.3250, -0.6875,  0.0828,  0.1776, -0.4905,  0.2789,\n",
              "         -0.1988,  0.3647, -0.2119,  0.5336,  0.0408,  0.3230, -0.1793,  0.6479,\n",
              "          0.1767,  0.4292,  0.3576,  0.5911, -0.9814, -0.6617, -1.1631,  0.4916,\n",
              "          0.1392, -1.2258, -0.6818,  0.4851, -0.1605, -0.5100,  0.2512, -0.4484,\n",
              "          1.2070,  0.9346,  0.8576, -0.7781,  0.4458,  0.4661, -0.0750, -0.5436,\n",
              "         -0.4902,  0.2773, -0.7110,  0.0707,  0.0970,  0.1148,  0.6328, -0.5576,\n",
              "          0.9263,  0.1691,  0.4301,  1.8189,  0.1332, -0.4181, -0.0986, -0.7309,\n",
              "         -0.3032,  1.0732, -0.2172,  0.0261,  0.0615,  0.1148, -0.3389, -0.1726,\n",
              "         -0.4375,  0.1756, -0.1094, -0.1535,  0.5676,  0.5562, -0.5127, -0.7869,\n",
              "         -0.4164, -1.0475,  0.7793, -0.2026,  0.4000,  0.1362,  0.2555, -0.3812,\n",
              "          0.0220,  0.1067, -0.5147,  0.5535, -0.3235, -0.2941, -0.0921,  0.9583,\n",
              "         -0.3157,  0.0799,  0.5608, -1.1266, -0.0391,  0.5399, -0.8281,  0.9629,\n",
              "          1.2182, -0.4411, -0.2767, -0.5576, -1.0761, -0.0842, -0.4492, -0.5085,\n",
              "         -0.9314, -0.6017,  0.5532,  0.2026,  1.3162, -0.4484,  0.5782,  0.0781,\n",
              "         -1.0761, -0.9493,  0.7208, -0.7000,  0.4729,  0.7544,  0.2530,  0.2815,\n",
              "         -0.5875, -0.9745,  0.3333,  0.4445, -0.1757, -1.2825,  0.4909, -0.1649,\n",
              "         -0.1493, -1.1503, -0.1386,  1.0253, -0.0375, -0.7407,  0.7536,  0.2841,\n",
              "          0.7311,  0.2150, -0.3952, -0.2265, -0.4293, -0.6510, -0.5608,  0.4608,\n",
              "          0.9002,  1.1446, -1.0340,  1.2023, -1.0669, -0.4657, -0.2851, -0.2940,\n",
              "          0.2692, -0.2391, -0.2185, -0.1788, -0.6462, -0.1592, -0.0242,  0.6131]])"
            ]
          },
          "metadata": {},
          "execution_count": 31
        }
      ]
    },
    {
      "cell_type": "code",
      "source": [
        "@torch.no_grad()\n",
        "def split_loss(split):\n",
        "  X, Y = {\n",
        "      'test' : { Xtest, Ytest },\n",
        "      'dev' : { Xdev, Ydev },\n",
        "      'train': { Xtr, Ytr }\n",
        "  }[split]\n",
        "  emb = C[X]\n",
        "  out_h_preactivation = (emb.view(-1, dimension) @ W1 + b1)\n",
        "  out_h_preactivation = (bngain * (out_h_preactivation - bnmean_running) / bnstd_running) + bnbias\n",
        "  out_h = out_h_preactivation.tanh()\n",
        "  logits = out_h @ W2 + b2\n",
        "  loss = F.cross_entropy(logits, Y)\n",
        "  print(f'{split} : {loss.item()}')\n",
        "\n",
        "split_loss('train')\n",
        "split_loss('dev')"
      ],
      "metadata": {
        "colab": {
          "base_uri": "https://localhost:8080/"
        },
        "id": "_V4mmySdpW6J",
        "outputId": "c5750a51-aa6f-4c89-e42c-cd00a35eca79"
      },
      "execution_count": null,
      "outputs": [
        {
          "output_type": "stream",
          "name": "stdout",
          "text": [
            "train : 2.1771183013916016\n",
            "dev : 2.204803943634033\n"
          ]
        }
      ]
    },
    {
      "cell_type": "markdown",
      "metadata": {
        "id": "aZNgjaEg95pH"
      },
      "source": [
        "In this neural net the data is already sort of gussian. so the effect impact here is not that much. But in the real life, it would be a challenge with non gussian data. so in those scenarios the batch normalizations would help"
      ]
    },
    {
      "cell_type": "markdown",
      "metadata": {
        "id": "-f1lzyIT_nRF"
      },
      "source": [
        "Batch normalization has a regularizing effect on neural networks, meaning it can help to prevent overfitting and improve the generalization performance of the model.\n",
        "\n",
        "The regularization effect of batch normalization arises from the fact that it introduces noise into the network during training. Specifically, the normalization process adds a small amount of random noise to the inputs to each layer, which can help to prevent the network from overfitting to the training data.\n",
        "\n",
        "In addition to the noise introduced by the normalization process, batch normalization also helps to reduce the internal covariate shift, which can make the training of the network more stable and improve the generalization performance of the model.\n",
        "\n",
        "Moreover, batch normalization also has an explicit regularization effect through the use of two additional learnable parameters, the scaling and shifting parameters. These parameters allow the network to learn the appropriate scale and shift for the normalized inputs, which can help to prevent the network from becoming too sensitive to small changes in the inputs.\n",
        "\n",
        "Overall, the regularization effect of batch normalization is one of the key reasons why it has become a popular technique for improving the training and generalization performance of neural networks."
      ]
    },
    {
      "cell_type": "markdown",
      "source": [
        "Batch normalization has not been deprecated, and is still a commonly used technique in modern deep learning architectures. In fact, batch normalization is considered to be one of the most effective techniques for improving the training and generalization performance of deep neural networks.\n",
        "\n",
        "However, there have been some criticisms of batch normalization in certain contexts, particularly when used with small batch sizes or in combination with other regularization techniques. Some researchers have argued that batch normalization can lead to over-regularization in these cases, which can hurt the performance of the model.\n",
        "\n",
        "Additionally, there have been some proposed alternatives to batch normalization that aim to improve on its performance or address some of its limitations. For example, layer normalization and group normalization are two related techniques that can be used as alternatives to batch normalization in certain contexts.\n",
        "\n",
        "Despite these criticisms and alternative techniques, batch normalization remains a widely used and effective technique for improving the training and generalization performance of deep neural networks. It is still a fundamental component of many modern deep learning architectures and is likely to remain so for the foreseeable future."
      ],
      "metadata": {
        "id": "5GaCi7jSXxmF"
      }
    },
    {
      "cell_type": "code",
      "source": [
        "split_loss('train')\n",
        "split_loss('dev')"
      ],
      "metadata": {
        "colab": {
          "base_uri": "https://localhost:8080/"
        },
        "id": "g_bStE5IZ351",
        "outputId": "ff8463fb-d8c7-41d0-9914-a10f3a57b01f"
      },
      "execution_count": null,
      "outputs": [
        {
          "output_type": "stream",
          "name": "stdout",
          "text": [
            "train : 2.1771183013916016\n",
            "dev : 2.204803943634033\n"
          ]
        }
      ]
    },
    {
      "cell_type": "code",
      "execution_count": null,
      "metadata": {
        "colab": {
          "base_uri": "https://localhost:8080/"
        },
        "id": "OEpVjXao-iEQ",
        "outputId": "bbdf2fcd-0bf1-44e8-c374-a319ff8b78b5"
      },
      "outputs": [
        {
          "output_type": "stream",
          "name": "stdout",
          "text": [
            "cex.\n",
            "maleah.\n",
            "makilah.\n",
            "tyha.\n",
            "emzie.\n",
            "tea.\n",
            "nella.\n",
            "kama.\n",
            "ar.\n",
            "semiyah.\n",
            "jalex.\n",
            "gotti.\n",
            "moliselian.\n",
            "keya.\n",
            "darea.\n",
            "emiless.\n",
            "suhakaviyna.\n",
            "fobs.\n",
            "mhina.\n",
            "emvin.\n"
          ]
        }
      ],
      "source": [
        "g = torch.Generator().manual_seed(2147483647)\n",
        "for _ in range(20):\n",
        "    \n",
        "    out = []\n",
        "    context = [0] * block_size\n",
        "    while True:\n",
        "      emb = C[torch.tensor([context])] \n",
        "      out_h_preactivation = emb.view(1, -1) @ W1 + b1\n",
        "      out_h_preactivation = (bngain * (out_h_preactivation - bnmean_running) / bnstd_running) + bnbias\n",
        "      h = out_h_preactivation.tanh()\n",
        "      logits = h @ W2 + b2\n",
        "      probs = F.softmax(logits, dim=1)\n",
        "      ix = torch.multinomial(probs, num_samples=1, generator=g).item()\n",
        "      context = context[1:] + [ix]\n",
        "      out.append(ix)\n",
        "      if ix == 0:\n",
        "        break\n",
        "    \n",
        "    print(''.join(itos[i] for i in out))"
      ]
    },
    {
      "cell_type": "code",
      "execution_count": null,
      "metadata": {
        "id": "iyN6rB-B-oZe"
      },
      "outputs": [],
      "source": []
    }
  ],
  "metadata": {
    "colab": {
      "provenance": [],
      "authorship_tag": "ABX9TyPj5BEb2uzObtE56famc370",
      "include_colab_link": true
    },
    "kernelspec": {
      "display_name": "Python 3",
      "name": "python3"
    },
    "language_info": {
      "name": "python"
    }
  },
  "nbformat": 4,
  "nbformat_minor": 0
}