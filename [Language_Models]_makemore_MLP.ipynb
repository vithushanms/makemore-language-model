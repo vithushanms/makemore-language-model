{
  "cells": [
    {
      "cell_type": "markdown",
      "metadata": {
        "id": "view-in-github",
        "colab_type": "text"
      },
      "source": [
        "<a href=\"https://colab.research.google.com/github/vithushanms/makemore-language-model/blob/main/%5BLanguage_Models%5D_makemore_MLP.ipynb\" target=\"_parent\"><img src=\"https://colab.research.google.com/assets/colab-badge.svg\" alt=\"Open In Colab\"/></a>"
      ]
    },
    {
      "cell_type": "code",
      "execution_count": null,
      "metadata": {
        "id": "jV_VKEpC1SEs"
      },
      "outputs": [],
      "source": [
        "import torch\n",
        "import torch.nn.functional as F\n",
        "import matplotlib.pyplot as plt # for making figures\n",
        "%matplotlib inline"
      ]
    },
    {
      "cell_type": "code",
      "execution_count": null,
      "metadata": {
        "colab": {
          "base_uri": "https://localhost:8080/"
        },
        "id": "q6lGUb1f1WXO",
        "outputId": "aa93a885-be30-466c-85a1-8223f6572b21"
      },
      "outputs": [
        {
          "output_type": "stream",
          "name": "stdout",
          "text": [
            "Drive already mounted at /content/drive; to attempt to forcibly remount, call drive.mount(\"/content/drive\", force_remount=True).\n"
          ]
        }
      ],
      "source": [
        "#if cloud\n",
        "from google.colab import drive\n",
        "drive.mount('/content/drive')\n",
        "dataFilePath = '/content/drive/My Drive/Publications/Neural Networks Research/makemore: next char prediction language model/names.txt'\n",
        "words = open(dataFilePath, 'r').read().splitlines() "
      ]
    },
    {
      "cell_type": "code",
      "execution_count": null,
      "metadata": {
        "colab": {
          "base_uri": "https://localhost:8080/"
        },
        "id": "E_gPeNo21azj",
        "outputId": "6f46a8aa-b7b1-4b81-8eb7-2fc5634018f5"
      },
      "outputs": [
        {
          "output_type": "execute_result",
          "data": {
            "text/plain": [
              "32033"
            ]
          },
          "metadata": {},
          "execution_count": 47
        }
      ],
      "source": [
        "len(words)"
      ]
    },
    {
      "cell_type": "code",
      "execution_count": null,
      "metadata": {
        "colab": {
          "base_uri": "https://localhost:8080/"
        },
        "id": "TJRK_EOV1_8U",
        "outputId": "bbb4e52d-ecc9-466a-84fe-f0e2c11b118c"
      },
      "outputs": [
        {
          "output_type": "stream",
          "name": "stdout",
          "text": [
            "{1: 'a', 2: 'b', 3: 'c', 4: 'd', 5: 'e', 6: 'f', 7: 'g', 8: 'h', 9: 'i', 10: 'j', 11: 'k', 12: 'l', 13: 'm', 14: 'n', 15: 'o', 16: 'p', 17: 'q', 18: 'r', 19: 's', 20: 't', 21: 'u', 22: 'v', 23: 'w', 24: 'x', 25: 'y', 26: 'z', 0: '.'}\n"
          ]
        }
      ],
      "source": [
        "# encode chars in the words to integer\n",
        "chars = sorted(list(set(''.join(words))))\n",
        "stoi = {s:i+1 for i,s in enumerate(chars)}\n",
        "stoi['.'] = 0\n",
        "itos = {i:s for s,i in stoi.items()}\n",
        "print(itos)"
      ]
    },
    {
      "cell_type": "code",
      "execution_count": null,
      "metadata": {
        "colab": {
          "base_uri": "https://localhost:8080/"
        },
        "id": "a5Bd8760V_ok",
        "outputId": "27b13e49-f45d-49d6-f47d-b11e30aae58b"
      },
      "outputs": [
        {
          "output_type": "execute_result",
          "data": {
            "text/plain": [
              "[0, 0, 0]"
            ]
          },
          "metadata": {},
          "execution_count": 49
        }
      ],
      "source": [
        "[0] * 3"
      ]
    },
    {
      "cell_type": "code",
      "execution_count": null,
      "metadata": {
        "colab": {
          "base_uri": "https://localhost:8080/"
        },
        "id": "N_L5IWrf2M2i",
        "outputId": "682e8439-20f8-4cfa-ebad-9f7c9dc73e2f"
      },
      "outputs": [
        {
          "output_type": "stream",
          "name": "stdout",
          "text": [
            "emma\n",
            "... ---> e\n",
            "..e ---> m\n",
            ".em ---> m\n",
            "emm ---> a\n",
            "mma ---> .\n",
            "olivia\n",
            "... ---> o\n",
            "..o ---> l\n",
            ".ol ---> i\n",
            "oli ---> v\n",
            "liv ---> i\n",
            "ivi ---> a\n",
            "via ---> .\n",
            "ava\n",
            "... ---> a\n",
            "..a ---> v\n",
            ".av ---> a\n",
            "ava ---> .\n",
            "isabella\n",
            "... ---> i\n",
            "..i ---> s\n",
            ".is ---> a\n",
            "isa ---> b\n",
            "sab ---> e\n",
            "abe ---> l\n",
            "bel ---> l\n",
            "ell ---> a\n",
            "lla ---> .\n",
            "sophia\n",
            "... ---> s\n",
            "..s ---> o\n",
            ".so ---> p\n",
            "sop ---> h\n",
            "oph ---> i\n",
            "phi ---> a\n",
            "hia ---> .\n"
          ]
        }
      ],
      "source": [
        "# build the dataset\n",
        "\n",
        "'''\n",
        "build the dataset while having the block_size (the number of chars we are going to input at a time) as 3\n",
        "'''\n",
        "block_size = 3 \n",
        "X, Y = [], []\n",
        "for w in words[:5]:\n",
        "  print(w)\n",
        "  context = [0] * block_size\n",
        "  for ch in w + '.':\n",
        "    ix = stoi[ch]\n",
        "    X.append(context)\n",
        "    Y.append(ix)\n",
        "    print(''.join(itos[i] for i in context), '--->', itos[ix])\n",
        "    context = context[1:] + [ix]\n",
        "  \n",
        "X = torch.tensor(X)\n",
        "Y = torch.tensor(Y)"
      ]
    },
    {
      "cell_type": "markdown",
      "source": [
        "X.shape = 32, 3 as the number of inputs are 32 and each have 3 charector input\n",
        "Y.shape = 32, 1 as the number of outcome are 32 and for each respective inputs of 3 charactor there will be one output"
      ],
      "metadata": {
        "id": "qSBgym2lfZEL"
      }
    },
    {
      "cell_type": "markdown",
      "metadata": {
        "id": "shDqtLHNCg9u"
      },
      "source": [
        "As a next step we should encode the dataset X to some sort of format that should be light weight at the same time have the context. \n",
        "\n",
        "If we use the one hot encoding this would work for this particular case as it's only 27 distinct charecter we have in our dataset. but if we take large language models posibily there would be more than a billion distict words makes that diemention to the input set. Therefore we need to scale it down to a smaller diemention without loosing the quality of the prediction. So for that and the following reasons we should scale down the data.\n",
        "\n",
        "*   Sparsity: One-hot encoded vectors are sparse, with only one element being 1 and the rest being 0. This can lead to high memory usage, especially for large vocabularies, as each word requires a vector of the size of the vocabulary.\n",
        "*   Computational complexity: Since one-hot encoded vectors are high-dimensional, matrix multiplications and other operations in the model become computationally expensive. By reducing the dimensionality, you can significantly speed up training and inference.\n",
        "* No semantic information: One-hot encoded vectors don't capture any semantic relationships between words, as they are orthogonal to each other. Word embeddings, on the other hand, are dense vector representations that capture semantic relationships, making it easier for the model to learn and generalize from the data.\n",
        "* Poor generalization: One-hot encoding does not support handling out-of-vocabulary words or handling new words that were not seen during training. Word embeddings can help in this regard by generating embeddings for previously unseen words based on their morphological or contextual similarities to known words.\n",
        "* Difficulty in capturing context: One-hot encoded vectors don't capture context information effectively. Word embeddings, especially when used in combination with more advanced techniques like transformers, can capture long-range dependencies and contextual information, enabling the model to better understand and generate coherent sequences of text.\n",
        "\n"
      ]
    },
    {
      "cell_type": "code",
      "execution_count": null,
      "metadata": {
        "id": "daGO2xXNCU-v",
        "colab": {
          "base_uri": "https://localhost:8080/"
        },
        "outputId": "2b92a561-91ae-43cd-9463-62717c3ef1ad"
      },
      "outputs": [
        {
          "output_type": "execute_result",
          "data": {
            "text/plain": [
              "tensor([0.1854, 0.2197], grad_fn=<SqueezeBackward3>)"
            ]
          },
          "metadata": {},
          "execution_count": 51
        }
      ],
      "source": [
        "# we can use the matrix multiplication to scale it down. ex (32,27) * (27,2) = (32,2) \n",
        "#Also this is going to be the first layer / input layer of the MLP\n",
        "C = torch.rand(27,2, requires_grad=True)\n",
        "#example with a one hot encoding of 5\n",
        "five_en = torch.nn.functional.one_hot(torch.tensor(5), num_classes=27).float()\n",
        "(five_en @ C)"
      ]
    },
    {
      "cell_type": "code",
      "execution_count": null,
      "metadata": {
        "colab": {
          "base_uri": "https://localhost:8080/"
        },
        "id": "mnPA_5tsCZpC",
        "outputId": "5a687606-c847-474c-b605-0e5bfb738343"
      },
      "outputs": [
        {
          "output_type": "execute_result",
          "data": {
            "text/plain": [
              "tensor([0.1854, 0.2197], grad_fn=<SelectBackward0>)"
            ]
          },
          "metadata": {},
          "execution_count": 52
        }
      ],
      "source": [
        "#apperently this is same as what we are going to get by the integer representation itself|\n",
        "C[5]"
      ]
    },
    {
      "cell_type": "markdown",
      "metadata": {
        "id": "aiVsULbXDvjg"
      },
      "source": [
        "So we can dierectly use indexing here"
      ]
    },
    {
      "cell_type": "code",
      "execution_count": null,
      "metadata": {
        "colab": {
          "base_uri": "https://localhost:8080/"
        },
        "id": "WjQfNLzSDroh",
        "outputId": "4fe1cbd7-d9ea-43bb-ee8c-7cb415e95c96"
      },
      "outputs": [
        {
          "output_type": "execute_result",
          "data": {
            "text/plain": [
              "torch.Size([32, 3, 2])"
            ]
          },
          "metadata": {},
          "execution_count": 53
        }
      ],
      "source": [
        "# we can index the whole data set at one go\n",
        "C[X].shape"
      ]
    },
    {
      "cell_type": "markdown",
      "source": [
        "This is resulting with 32, 3, 2 because we have 32 lines of inputs and each input has 3 character and each character is encoded to 2 diemention instead of 27"
      ],
      "metadata": {
        "id": "Y4JxNLxrlxF6"
      }
    },
    {
      "cell_type": "code",
      "execution_count": null,
      "metadata": {
        "id": "RyHyEN71ElUI"
      },
      "outputs": [],
      "source": [
        "emb = C[X]"
      ]
    },
    {
      "cell_type": "markdown",
      "source": [
        "But at some point we need to concatinate the 3 character encodings as we need to pass them all together to the inputs to next layer of the model"
      ],
      "metadata": {
        "id": "a-21hKWJm_qR"
      }
    },
    {
      "cell_type": "code",
      "execution_count": null,
      "metadata": {
        "colab": {
          "base_uri": "https://localhost:8080/"
        },
        "id": "fnoP7FNnFk96",
        "outputId": "07009370-33f5-4982-cd4c-6eb22843e70e"
      },
      "outputs": [
        {
          "output_type": "execute_result",
          "data": {
            "text/plain": [
              "torch.Size([32, 6])"
            ]
          },
          "metadata": {},
          "execution_count": 55
        }
      ],
      "source": [
        "# we can use torch.cat\n",
        "torch.cat([emb[: , 0, :], emb[:, 1, :], emb[:, 2, :]], dim=1).shape"
      ]
    },
    {
      "cell_type": "code",
      "source": [
        "# we can use view which is the most efficent way\n",
        "emb.view(32,6).shape"
      ],
      "metadata": {
        "colab": {
          "base_uri": "https://localhost:8080/"
        },
        "id": "UWKZsFb4noSE",
        "outputId": "f07fb62b-ec9b-4bca-a2b1-075e420b6f50"
      },
      "execution_count": null,
      "outputs": [
        {
          "output_type": "execute_result",
          "data": {
            "text/plain": [
              "torch.Size([32, 6])"
            ]
          },
          "metadata": {},
          "execution_count": 56
        }
      ]
    },
    {
      "cell_type": "markdown",
      "source": [
        "view() is used to reshape a tensor without altering its underlying data. It returns a new tensor with the specified dimensions that shares the same data with the original tensor. The primary goal of view() is to change the dimensions of a tensor to match the input or output requirements of neural network layers or other operations.\n",
        "\n",
        "torch.cat() is used to concatenate multiple tensors along a specified dimension. This operation combines the input tensors into a single larger tensor, effectively \"stacking\" them along the chosen axis. The input tensors must have the same shape along all dimensions except for the one being concatenated.\n",
        "\n",
        "However in this spesific scenario the data arrangement is going to the same in both the cases as we are effectivly slicing the input. But view is slightly efficent as it's just a reshape operation performed in the same tensor rather than creating a tensor and copying the data to the new diemension in torch.cat"
      ],
      "metadata": {
        "id": "5RvQKxmmsbLI"
      }
    },
    {
      "cell_type": "code",
      "source": [
        "torch.cat([emb[: , 0, :], emb[:, 1, :], emb[:, 2, :]], dim=1)"
      ],
      "metadata": {
        "colab": {
          "base_uri": "https://localhost:8080/"
        },
        "id": "6Txdy3xC_-aY",
        "outputId": "cc9ff8af-76b6-4814-f2be-55a8d0e3582c"
      },
      "execution_count": null,
      "outputs": [
        {
          "output_type": "execute_result",
          "data": {
            "text/plain": [
              "tensor([[0.0608, 0.5287, 0.0608, 0.5287, 0.0608, 0.5287],\n",
              "        [0.0608, 0.5287, 0.0608, 0.5287, 0.1854, 0.2197],\n",
              "        [0.0608, 0.5287, 0.1854, 0.2197, 0.3247, 0.4423],\n",
              "        [0.1854, 0.2197, 0.3247, 0.4423, 0.3247, 0.4423],\n",
              "        [0.3247, 0.4423, 0.3247, 0.4423, 0.5254, 0.4390],\n",
              "        [0.0608, 0.5287, 0.0608, 0.5287, 0.0608, 0.5287],\n",
              "        [0.0608, 0.5287, 0.0608, 0.5287, 0.9694, 0.9172],\n",
              "        [0.0608, 0.5287, 0.9694, 0.9172, 0.3528, 0.1892],\n",
              "        [0.9694, 0.9172, 0.3528, 0.1892, 0.3750, 0.6086],\n",
              "        [0.3528, 0.1892, 0.3750, 0.6086, 0.6971, 0.9118],\n",
              "        [0.3750, 0.6086, 0.6971, 0.9118, 0.3750, 0.6086],\n",
              "        [0.6971, 0.9118, 0.3750, 0.6086, 0.5254, 0.4390],\n",
              "        [0.0608, 0.5287, 0.0608, 0.5287, 0.0608, 0.5287],\n",
              "        [0.0608, 0.5287, 0.0608, 0.5287, 0.5254, 0.4390],\n",
              "        [0.0608, 0.5287, 0.5254, 0.4390, 0.6971, 0.9118],\n",
              "        [0.5254, 0.4390, 0.6971, 0.9118, 0.5254, 0.4390],\n",
              "        [0.0608, 0.5287, 0.0608, 0.5287, 0.0608, 0.5287],\n",
              "        [0.0608, 0.5287, 0.0608, 0.5287, 0.3750, 0.6086],\n",
              "        [0.0608, 0.5287, 0.3750, 0.6086, 0.3703, 0.6709],\n",
              "        [0.3750, 0.6086, 0.3703, 0.6709, 0.5254, 0.4390],\n",
              "        [0.3703, 0.6709, 0.5254, 0.4390, 0.5703, 0.2713],\n",
              "        [0.5254, 0.4390, 0.5703, 0.2713, 0.1854, 0.2197],\n",
              "        [0.5703, 0.2713, 0.1854, 0.2197, 0.3528, 0.1892],\n",
              "        [0.1854, 0.2197, 0.3528, 0.1892, 0.3528, 0.1892],\n",
              "        [0.3528, 0.1892, 0.3528, 0.1892, 0.5254, 0.4390],\n",
              "        [0.0608, 0.5287, 0.0608, 0.5287, 0.0608, 0.5287],\n",
              "        [0.0608, 0.5287, 0.0608, 0.5287, 0.3703, 0.6709],\n",
              "        [0.0608, 0.5287, 0.3703, 0.6709, 0.9694, 0.9172],\n",
              "        [0.3703, 0.6709, 0.9694, 0.9172, 0.5888, 0.7687],\n",
              "        [0.9694, 0.9172, 0.5888, 0.7687, 0.8345, 0.6668],\n",
              "        [0.5888, 0.7687, 0.8345, 0.6668, 0.3750, 0.6086],\n",
              "        [0.8345, 0.6668, 0.3750, 0.6086, 0.5254, 0.4390]],\n",
              "       grad_fn=<CatBackward0>)"
            ]
          },
          "metadata": {},
          "execution_count": 57
        }
      ]
    },
    {
      "cell_type": "code",
      "source": [
        "emb.view(32,6)"
      ],
      "metadata": {
        "colab": {
          "base_uri": "https://localhost:8080/"
        },
        "id": "MTMHA3afqdmI",
        "outputId": "6ed59696-e461-4fb4-de34-d1d99d27e3ac"
      },
      "execution_count": null,
      "outputs": [
        {
          "output_type": "execute_result",
          "data": {
            "text/plain": [
              "tensor([[0.0608, 0.5287, 0.0608, 0.5287, 0.0608, 0.5287],\n",
              "        [0.0608, 0.5287, 0.0608, 0.5287, 0.1854, 0.2197],\n",
              "        [0.0608, 0.5287, 0.1854, 0.2197, 0.3247, 0.4423],\n",
              "        [0.1854, 0.2197, 0.3247, 0.4423, 0.3247, 0.4423],\n",
              "        [0.3247, 0.4423, 0.3247, 0.4423, 0.5254, 0.4390],\n",
              "        [0.0608, 0.5287, 0.0608, 0.5287, 0.0608, 0.5287],\n",
              "        [0.0608, 0.5287, 0.0608, 0.5287, 0.9694, 0.9172],\n",
              "        [0.0608, 0.5287, 0.9694, 0.9172, 0.3528, 0.1892],\n",
              "        [0.9694, 0.9172, 0.3528, 0.1892, 0.3750, 0.6086],\n",
              "        [0.3528, 0.1892, 0.3750, 0.6086, 0.6971, 0.9118],\n",
              "        [0.3750, 0.6086, 0.6971, 0.9118, 0.3750, 0.6086],\n",
              "        [0.6971, 0.9118, 0.3750, 0.6086, 0.5254, 0.4390],\n",
              "        [0.0608, 0.5287, 0.0608, 0.5287, 0.0608, 0.5287],\n",
              "        [0.0608, 0.5287, 0.0608, 0.5287, 0.5254, 0.4390],\n",
              "        [0.0608, 0.5287, 0.5254, 0.4390, 0.6971, 0.9118],\n",
              "        [0.5254, 0.4390, 0.6971, 0.9118, 0.5254, 0.4390],\n",
              "        [0.0608, 0.5287, 0.0608, 0.5287, 0.0608, 0.5287],\n",
              "        [0.0608, 0.5287, 0.0608, 0.5287, 0.3750, 0.6086],\n",
              "        [0.0608, 0.5287, 0.3750, 0.6086, 0.3703, 0.6709],\n",
              "        [0.3750, 0.6086, 0.3703, 0.6709, 0.5254, 0.4390],\n",
              "        [0.3703, 0.6709, 0.5254, 0.4390, 0.5703, 0.2713],\n",
              "        [0.5254, 0.4390, 0.5703, 0.2713, 0.1854, 0.2197],\n",
              "        [0.5703, 0.2713, 0.1854, 0.2197, 0.3528, 0.1892],\n",
              "        [0.1854, 0.2197, 0.3528, 0.1892, 0.3528, 0.1892],\n",
              "        [0.3528, 0.1892, 0.3528, 0.1892, 0.5254, 0.4390],\n",
              "        [0.0608, 0.5287, 0.0608, 0.5287, 0.0608, 0.5287],\n",
              "        [0.0608, 0.5287, 0.0608, 0.5287, 0.3703, 0.6709],\n",
              "        [0.0608, 0.5287, 0.3703, 0.6709, 0.9694, 0.9172],\n",
              "        [0.3703, 0.6709, 0.9694, 0.9172, 0.5888, 0.7687],\n",
              "        [0.9694, 0.9172, 0.5888, 0.7687, 0.8345, 0.6668],\n",
              "        [0.5888, 0.7687, 0.8345, 0.6668, 0.3750, 0.6086],\n",
              "        [0.8345, 0.6668, 0.3750, 0.6086, 0.5254, 0.4390]],\n",
              "       grad_fn=<ViewBackward0>)"
            ]
          },
          "metadata": {},
          "execution_count": 58
        }
      ]
    },
    {
      "cell_type": "markdown",
      "source": [
        "A Multilayer Perceptron (MLP) is a type of artificial neural network that can be used for language modeling tasks. The following are some of the hyperparameters that can be adjusted in an MLP for language modeling:\n",
        "\n",
        "1. Architecture: The number of hidden layers and the number of neurons in each layer can be adjusted. Increasing the number of hidden layers and neurons can increase the capacity of the model, but also increase the risk of overfitting.\n",
        "\n",
        "2. Activation Function: The activation function used in each layer can be adjusted. Common choices include ReLU, sigmoid, and tanh.\n",
        "\n",
        "3. Learning Rate: The learning rate determines the step size used to update the model's parameters during training. A too-high learning rate can cause the model to converge slowly or not at all, while a too-low learning rate can cause the model to converge too slowly.\n",
        "\n",
        "4. Momentum: Momentum is a hyperparameter used in gradient descent optimization algorithms to speed up convergence. It adds a fraction of the update vector of the past time step to the current update vector.\n",
        "\n",
        "5. Regularization: Regularization is a technique used to prevent overfitting by adding a penalty term to the loss function. Common choices include L1 and L2 regularization, and dropout.\n",
        "\n",
        "6. Batch Size: The batch size determines the number of samples used in one iteration of training. Larger batch sizes can lead to faster training, but may also require more memory.\n",
        "\n",
        "7. Epochs: The number of training epochs determines how many times the model will see the entire training dataset. More epochs can lead to better model performance, but also increase the risk of overfitting.\n",
        "\n",
        "These are some of the most common hyperparameters that can be adjusted in an MLP for language modeling. The optimal values for these hyperparameters depend on the specific task and dataset, and often require experimentation to determine.\n",
        "\n",
        "These hyperparameter can be optimized mostly by the trial and errors during the training "
      ],
      "metadata": {
        "id": "TBIVk54LusbQ"
      }
    },
    {
      "cell_type": "code",
      "execution_count": null,
      "metadata": {
        "id": "IxeWKGiNHcr1"
      },
      "outputs": [],
      "source": [
        "#create hidden layer. having 100 neurons initially and adding tanh as an activation function\n",
        "W1 = torch.randn((6,100), requires_grad=True)\n",
        "b = torch.randn(100, requires_grad=True)\n",
        "out_1 = emb.view(32,6) @ W1 + b\n",
        "out_h = torch.tanh(out_1)"
      ]
    },
    {
      "cell_type": "code",
      "execution_count": null,
      "metadata": {
        "colab": {
          "base_uri": "https://localhost:8080/"
        },
        "id": "zsAA5gpdJdvZ",
        "outputId": "c0d9e974-06b3-4724-80de-efec7ba9c060"
      },
      "outputs": [
        {
          "output_type": "execute_result",
          "data": {
            "text/plain": [
              "torch.Size([32, 100])"
            ]
          },
          "metadata": {},
          "execution_count": 60
        }
      ],
      "source": [
        "out_h.shape"
      ]
    },
    {
      "cell_type": "code",
      "execution_count": null,
      "metadata": {
        "id": "ieM1oPF9Jftl"
      },
      "outputs": [],
      "source": [
        "#create final layer. we are using the softmax for activation function as the expecation to get a probability of each character in 27\n",
        "W2 = torch.randn((100,27) , requires_grad=True)\n",
        "b2 = torch.randn(27, requires_grad=True)\n",
        "logits = out_h @ W2 + b2  \n",
        "#perform softmax\n",
        "counts = torch.exp(logits)\n",
        "counts.shape\n",
        "prob = counts / counts.sum(1, keepdim=True)"
      ]
    },
    {
      "cell_type": "markdown",
      "source": [
        "Emphasize differences: Exponentiating logits makes the differences between large and small logits more pronounced, causing the softmax function to produce more distinct probabilities. This property is helpful in tasks like classification, where you want the model to be more confident in its predictions.\n",
        "\n",
        "Non-negative probabilities: Exponentiating logits ensures that the resulting probabilities are non-negative, as the exponential function e^x is always positive for any x. This is important because probabilities should always be non-negative by definition.\n",
        "\n",
        "Normalization: After exponentiating logits, they are normalized by dividing each exponentiated logit by the sum of all exponentiated logits. This normalization step ensures that the resulting probabilities sum up to 1, which is a requirement for a valid probability distribution."
      ],
      "metadata": {
        "id": "7Sl3J-2Sw0vk"
      }
    },
    {
      "cell_type": "code",
      "execution_count": null,
      "metadata": {
        "colab": {
          "base_uri": "https://localhost:8080/"
        },
        "id": "gavMCZ0vKZFL",
        "outputId": "9d3d9dd5-a8b3-4f68-877a-ae54f2922e37"
      },
      "outputs": [
        {
          "output_type": "execute_result",
          "data": {
            "text/plain": [
              "torch.Size([32, 27])"
            ]
          },
          "metadata": {},
          "execution_count": 62
        }
      ],
      "source": [
        "prob.shape"
      ]
    },
    {
      "cell_type": "code",
      "execution_count": null,
      "metadata": {
        "colab": {
          "base_uri": "https://localhost:8080/"
        },
        "id": "_mE10QkTLLeV",
        "outputId": "6b73e238-f656-404a-ac27-00f41df20343"
      },
      "outputs": [
        {
          "output_type": "stream",
          "name": "stdout",
          "text": [
            "---- y actual : e --> 5 \n",
            "---- predicted probabilities :  tensor([9.2058e-09, 2.8377e-08, 1.9253e-11, 1.0980e-12, 1.0549e-10, 4.2874e-05,\n",
            "        1.6895e-10, 2.0007e-07, 1.0367e-07, 5.7103e-07, 4.2138e-07, 2.3852e-13,\n",
            "        1.2725e-03, 2.1721e-10, 9.9866e-01, 1.8841e-06, 1.5907e-05, 2.9767e-10,\n",
            "        1.1804e-10, 1.9446e-11, 4.1211e-09, 3.5602e-06, 3.9668e-06, 1.9299e-06,\n",
            "        1.0988e-07, 3.8290e-12, 5.3616e-13], grad_fn=<SelectBackward0>)\n",
            "---- predicted probability of e 4.287410047254525e-05 \n",
            "---- y actual : m --> 13 \n",
            "---- predicted probabilities :  tensor([9.0467e-08, 3.5002e-07, 7.0688e-10, 3.8022e-13, 5.8197e-09, 8.5859e-04,\n",
            "        4.5188e-10, 3.0516e-05, 2.1899e-06, 8.1055e-07, 3.3353e-07, 2.0459e-11,\n",
            "        1.9545e-02, 3.5852e-09, 9.7930e-01, 7.7021e-06, 8.2741e-06, 1.6000e-09,\n",
            "        6.6088e-11, 1.1564e-10, 2.1660e-07, 8.9642e-06, 2.2314e-04, 1.1213e-05,\n",
            "        2.5890e-08, 2.4274e-11, 1.2802e-09], grad_fn=<SelectBackward0>)\n",
            "---- predicted probability of m 3.585243213422018e-09 \n"
          ]
        }
      ],
      "source": [
        "for i in range(len(Y[:2])):\n",
        "  iy = Y[i].item()\n",
        "  print(f'---- y actual : {itos[iy]} --> {iy} ')\n",
        "  print('---- predicted probabilities : ', prob[i])\n",
        "  print(f'---- predicted probability of {itos[iy]} {prob[i][iy]} ')"
      ]
    },
    {
      "cell_type": "code",
      "execution_count": null,
      "metadata": {
        "colab": {
          "base_uri": "https://localhost:8080/"
        },
        "id": "75aK1OjNQ5wH",
        "outputId": "ee96c7e1-9248-4433-8611-0c1f27e27437"
      },
      "outputs": [
        {
          "output_type": "execute_result",
          "data": {
            "text/plain": [
              "tensor([4.2874e-05, 3.5852e-09, 2.0046e-09, 8.1338e-07, 5.2939e-06, 1.8841e-06,\n",
              "        1.7342e-02, 4.5273e-05, 1.6606e-01, 8.8310e-03, 1.6513e-06, 8.6398e-09,\n",
              "        2.8377e-08, 2.5718e-03, 1.2451e-04, 4.0208e-07, 5.7103e-07, 8.5997e-11,\n",
              "        2.6541e-07, 2.9449e-09, 8.7310e-03, 2.3943e-02, 1.2979e-01, 1.0285e-05,\n",
              "        1.8443e-04, 1.9446e-11, 6.0823e-04, 1.4255e-02, 6.4393e-07, 6.0402e-05,\n",
              "        3.9042e-05, 3.7798e-07], grad_fn=<IndexBackward0>)"
            ]
          },
          "metadata": {},
          "execution_count": 64
        }
      ],
      "source": [
        "#get the probability of y act from all the respective 32 input feature set \n",
        "prob[torch.arange(32), Y]"
      ]
    },
    {
      "cell_type": "code",
      "execution_count": null,
      "metadata": {
        "id": "Rj1sVNLFLzQt",
        "colab": {
          "base_uri": "https://localhost:8080/"
        },
        "outputId": "1ef6adf7-781c-4da7-908c-6c4e82638b49"
      },
      "outputs": [
        {
          "output_type": "execute_result",
          "data": {
            "text/plain": [
              "tensor(11.7678, grad_fn=<NegBackward0>)"
            ]
          },
          "metadata": {},
          "execution_count": 65
        }
      ],
      "source": [
        "#calculate the log likelyhood which is the loss\n",
        "loss = nll = -prob[torch.arange(32),Y].log().mean() \n",
        "loss"
      ]
    },
    {
      "cell_type": "code",
      "execution_count": null,
      "metadata": {
        "colab": {
          "base_uri": "https://localhost:8080/"
        },
        "id": "Dik3Vt87Qzpy",
        "outputId": "d946d8e2-43ce-4b8d-ba60-328b9314d037"
      },
      "outputs": [
        {
          "output_type": "execute_result",
          "data": {
            "text/plain": [
              "3481"
            ]
          },
          "metadata": {},
          "execution_count": 66
        }
      ],
      "source": [
        "#parameter of the model\n",
        "parameters = [C, W1, b, W2, b2]\n",
        "sum(p.nelement() for p in parameters)"
      ]
    },
    {
      "cell_type": "markdown",
      "source": [
        "cross_entropy is a built in feature within the pytorch that calculates the negative log likelyhood againt the Y actual after performing the softmax from the given logits. and as it's inbuilt, this is much more effiecent to use"
      ],
      "metadata": {
        "id": "PMxrPba9yW1B"
      }
    },
    {
      "cell_type": "code",
      "execution_count": null,
      "metadata": {
        "colab": {
          "base_uri": "https://localhost:8080/"
        },
        "id": "k__5YzcLUw0v",
        "outputId": "bae7fadf-4afa-4f60-e5ae-09a711b0a37c"
      },
      "outputs": [
        {
          "output_type": "execute_result",
          "data": {
            "text/plain": [
              "tensor(11.7678, grad_fn=<NllLossBackward0>)"
            ]
          },
          "metadata": {},
          "execution_count": 67
        }
      ],
      "source": [
        "#there is an internal impl in pytourch which calculates the loss directly\n",
        "loss = F.cross_entropy(logits, Y)\n",
        "loss"
      ]
    },
    {
      "cell_type": "code",
      "execution_count": null,
      "metadata": {
        "colab": {
          "base_uri": "https://localhost:8080/"
        },
        "id": "QfT-bmNiciNJ",
        "outputId": "3749a071-a701-40a6-a4fb-01ba6cfa8f51"
      },
      "outputs": [
        {
          "output_type": "execute_result",
          "data": {
            "text/plain": [
              "tensor(1.1434, grad_fn=<NllLossBackward0>)"
            ]
          },
          "metadata": {},
          "execution_count": 68
        }
      ],
      "source": [
        "#backpropogate and tune the model\n",
        "for i in range(10):\n",
        "  #forward\n",
        "  emb = C[X]\n",
        "  out_1 = emb.view(-1,6) @ W1 + b\n",
        "  out_h = torch.tanh(out_1)\n",
        "  logits = out_h @ W2 + b2  \n",
        "  loss = F.cross_entropy(logits, Y)\n",
        "  #backward\n",
        "  for p in parameters:\n",
        "    p.grad = None\n",
        "  loss.backward()\n",
        "  #update\n",
        "  for p in parameters:\n",
        "    p.data += -0.5 * p.grad\n",
        "\n",
        "loss"
      ]
    },
    {
      "cell_type": "markdown",
      "source": [
        "So far we have tried with only first five names from the data set. so let's try the same approach with the whole data set"
      ],
      "metadata": {
        "id": "O6mdiMTcB3G3"
      }
    },
    {
      "cell_type": "code",
      "execution_count": null,
      "metadata": {
        "id": "L049PXX9dXbj"
      },
      "outputs": [],
      "source": [
        "X, Y = [], []\n",
        "\n",
        "for name in words:\n",
        "  context = [0] * 3\n",
        "  for ch in name + '.':\n",
        "    ix = stoi[ch]\n",
        "    Y.append(ix)\n",
        "    X.append(context)\n",
        "    context = context[1:] + [ix]\n",
        "\n",
        "X = torch.tensor(X)\n",
        "Y = torch.tensor(Y)"
      ]
    },
    {
      "cell_type": "markdown",
      "source": [
        "Why do we use tensors instead of normal array\n",
        "\n",
        "1. Efficient computation on GPUs: torch.Tensor has built-in support for GPU acceleration, which makes it much faster than standard multidimensional arrays when performing computationally intensive operations. This is especially important in machine learning, where large amounts of data need to be processed quickly.\n",
        "\n",
        "2. Automatic differentiation: torch.Tensor supports automatic differentiation, which is a key feature for training neural networks using techniques like backpropagation. Automatic differentiation allows you to easily calculate gradients of complex functions, which is essential for optimizing model parameters.\n",
        "\n",
        "3. Extensive library support: torch.Tensor is part of the PyTorch library, which has extensive support for machine learning and scientific computing. PyTorch includes many useful tools for building and training neural networks, such as built-in loss functions, optimizers, and activation functions.\n",
        "\n",
        "4. Flexible data types: torch.Tensor supports a wide range of data types, including floating-point numbers, integers, and Boolean values. This flexibility makes it easy to work with different types of data, which is important in many scientific and engineering applications."
      ],
      "metadata": {
        "id": "klrJOApMIyQQ"
      }
    },
    {
      "cell_type": "code",
      "source": [
        "C = torch.randn((27,2),requires_grad=True)\n",
        "W1 = torch.randn((6,100), requires_grad=True)\n",
        "b1 = torch.randn(100, requires_grad=True)\n",
        "W2 = torch.randn((100, 27), requires_grad=True)\n",
        "b2 = torch.randn(27, requires_grad=True)\n",
        "parameters = [C, W1, b1, W2, b2]"
      ],
      "metadata": {
        "id": "l72DE7aAJLS-"
      },
      "execution_count": null,
      "outputs": []
    },
    {
      "cell_type": "code",
      "source": [
        "emb = C[X]\n",
        "out_h = (emb.view(-1, 6) @ W1 + b1).tanh()\n",
        "logits = out_h @ W2 + b2\n",
        "loss = F.cross_entropy(logits, Y)\n",
        "loss"
      ],
      "metadata": {
        "colab": {
          "base_uri": "https://localhost:8080/"
        },
        "id": "a0BMqdkwNn_A",
        "outputId": "088f3285-b951-4573-a6df-ff790b0fdd88"
      },
      "execution_count": null,
      "outputs": [
        {
          "output_type": "execute_result",
          "data": {
            "text/plain": [
              "tensor(8.8664, grad_fn=<NllLossBackward0>)"
            ]
          },
          "metadata": {},
          "execution_count": 109
        }
      ]
    },
    {
      "cell_type": "code",
      "source": [
        "for i in range(10):\n",
        "  #forward pass\n",
        "  emb = C[X]\n",
        "  logits = ((emb.view(-1,6) @ W1 + b1).tanh()) @ W2 + b2\n",
        "  loss = F.cross_entropy(logits, Y)\n",
        "  print(loss.item())\n",
        "\n",
        "  #backward\n",
        "  for p in parameters:\n",
        "    p.grad = None\n",
        "  loss.backward()\n",
        "\n",
        "  #tune the parameters\n",
        "  for p in parameters:\n",
        "    p.data += -0.1 * p.grad"
      ],
      "metadata": {
        "id": "MI5VgEF-TekU"
      },
      "execution_count": null,
      "outputs": []
    },
    {
      "cell_type": "code",
      "source": [
        "loss.item()"
      ],
      "metadata": {
        "colab": {
          "base_uri": "https://localhost:8080/"
        },
        "id": "OPjsUmCSU6Fn",
        "outputId": "e8b42588-8e31-4d98-8f93-b31a136fd72d"
      },
      "execution_count": null,
      "outputs": [
        {
          "output_type": "execute_result",
          "data": {
            "text/plain": [
              "51.11656188964844"
            ]
          },
          "metadata": {},
          "execution_count": 86
        }
      ]
    },
    {
      "cell_type": "markdown",
      "source": [
        "Since this use whole data to forward, backward and update it takes a lot of time. so to address this we use mini batches"
      ],
      "metadata": {
        "id": "sQ4ddznmXGYn"
      }
    },
    {
      "cell_type": "code",
      "source": [
        "#generate 32 random indexes of the data set \n",
        "rand_index = torch.randint(0, X.shape[0], (32,))\n",
        "rand_index"
      ],
      "metadata": {
        "colab": {
          "base_uri": "https://localhost:8080/"
        },
        "id": "wfetHpFPZiLc",
        "outputId": "c315fcbc-c248-4dd1-f433-aafb2161e071"
      },
      "execution_count": null,
      "outputs": [
        {
          "output_type": "execute_result",
          "data": {
            "text/plain": [
              "tensor([145178,  55542, 165105, 155470,  67890, 207320,  87463,  92183, 207983,\n",
              "        167341, 109918, 207072, 198284, 118292, 117272, 196674,  63920,  90477,\n",
              "        153581, 184697, 221058,  20101, 218347, 164952, 208937, 111735, 218765,\n",
              "         84689,  30577, 203178,  61452,  75504])"
            ]
          },
          "metadata": {},
          "execution_count": 101
        }
      ]
    },
    {
      "cell_type": "code",
      "source": [
        "for i in range(10):\n",
        "  #pick up random mini batches of 32 row from the data set in the each iteration\n",
        "  rand_index = torch.randint(0, X.shape[0], (32,))\n",
        "  \n",
        "  #forward pass\n",
        "  emb = C[X[rand_index]]\n",
        "  logits = ((emb.view(-1,6) @ W1 + b1).tanh()) @ W2 + b2\n",
        "  loss = F.cross_entropy(logits, Y[rand_index])\n",
        "  print(loss.item())\n",
        "\n",
        "  #backward\n",
        "  for p in parameters:\n",
        "    p.grad = None\n",
        "  loss.backward()\n",
        "\n",
        "  #tune the parameters\n",
        "  for p in parameters:\n",
        "    p.data += -0.1 * p.grad"
      ],
      "metadata": {
        "colab": {
          "base_uri": "https://localhost:8080/"
        },
        "id": "Z2Z8KpKdXGJj",
        "outputId": "965579b0-8b88-4ae0-d005-b34315ee2578"
      },
      "execution_count": null,
      "outputs": [
        {
          "output_type": "stream",
          "name": "stdout",
          "text": [
            "11.131815910339355\n",
            "11.153494834899902\n",
            "12.471354484558105\n",
            "8.627363204956055\n",
            "11.52847957611084\n",
            "8.363377571105957\n",
            "9.2767333984375\n",
            "8.009580612182617\n",
            "8.216520309448242\n",
            "8.86539363861084\n"
          ]
        }
      ]
    },
    {
      "cell_type": "code",
      "source": [
        "#compare it with the loss from entire data set\n",
        "emb = C[X]\n",
        "out_h = (emb.view(-1, 6) @ W1 + b1).tanh()\n",
        "logits = out_h @ W2 + b2\n",
        "loss = F.cross_entropy(logits, Y)\n",
        "loss"
      ],
      "metadata": {
        "colab": {
          "base_uri": "https://localhost:8080/"
        },
        "id": "yGAEDLruaXM_",
        "outputId": "24a18658-a579-4e4b-eb84-8ddef5325923"
      },
      "execution_count": null,
      "outputs": [
        {
          "output_type": "execute_result",
          "data": {
            "text/plain": [
              "tensor(8.8664, grad_fn=<NllLossBackward0>)"
            ]
          },
          "metadata": {},
          "execution_count": 110
        }
      ]
    },
    {
      "cell_type": "markdown",
      "source": [
        "Choosing a good learning rate is a critical step when training a Multilayer Perceptron (MLP) using backpropagation. Here are some methods to determine a better learning rate:\n",
        "--\n",
        "\n",
        "1. Grid Search: Grid search is a simple but effective way to find a good learning rate. In this method, you specify a range of learning rates and train the MLP with each learning rate in the range. You can then evaluate the performance of the model for each learning rate and choose the one that performs best.\n",
        "\n",
        "2. Learning Rate Range Test: The learning rate range test is a more automated way to determine a good learning rate. In this method, you start with a very small learning rate and increase it exponentially while training the model. You can then plot the loss as a function of learning rate and choose the value at which the loss starts to decrease the most rapidly. This method can help you find a good learning rate quickly and without much manual effort.\n",
        "\n",
        "3. Adaptive Learning Rates: Adaptive learning rate methods, such as Adam and Adagrad, adjust the learning rate automatically during training based on the gradients of the loss function. These methods can be more effective than manually tuning the learning rate, as they can adapt to the specific characteristics of the problem being solved.\n",
        "\n",
        "4. Learning Rate Schedules: Learning rate schedules adjust the learning rate over time, typically reducing it as training progresses. Commonly used learning rate schedules include step decay, where the learning rate is reduced by a fixed factor after a certain number of epochs, and exponential decay, where the learning rate is reduced exponentially over time. These methods can help prevent the learning rate from becoming too large during later stages of training, when the gradients are smaller.\n",
        "\n",
        "Overall, choosing a good learning rate can be a bit of an art, and it may require some experimentation to find the best approach for a particular problem. However, these methods provide a good starting point for finding a suitable learning rate for an MLP with backpropagation.\n",
        "\n",
        "on the learning rate range why are we having to increase  exponentially instead of evenly  \n",
        "--\n",
        "When using the learning rate range test to determine a good learning rate, it is often beneficial to increase the learning rate exponentially instead of evenly. The reason for this is that the effect of the learning rate on the loss function can be highly nonlinear, and it can be difficult to identify the optimal learning rate by sampling uniformly over a range of learning rates.\n",
        "\n",
        "Increasing the learning rate exponentially allows us to cover a wider range of learning rates more quickly, while still being able to identify the learning rates that have the greatest impact on the loss function. By starting with a small learning rate and increasing it exponentially, we can quickly move through the range of learning rates and identify the point at which the loss starts to decrease rapidly. This point typically corresponds to a learning rate that is just large enough to make significant progress in reducing the loss, without causing the loss to become unstable.\n",
        "\n",
        "In addition, increasing the learning rate exponentially helps to avoid getting stuck in local minima by allowing the model to explore a wider range of learning rates. By gradually increasing the learning rate, the model can learn more quickly and avoid getting stuck in a suboptimal solution. This can be especially important in deep learning, where the loss function can have many local minima.\n",
        "\n",
        "Overall, using an exponential increase in the learning rate can help to identify a good learning rate more efficiently and effectively than sampling uniformly over a range of learning rates.\n",
        "\n",
        "\n",
        "\n",
        "\n",
        "\n"
      ],
      "metadata": {
        "id": "xQmjYYpPXDkb"
      }
    },
    {
      "cell_type": "code",
      "source": [
        "# between 0.001 and 1 is a better limit as it seem to be exploding anything beyound this\n",
        "lre = torch.linspace(-3, 0 , 1000)\n",
        "lrs = 10 ** lre\n",
        "lrs"
      ],
      "metadata": {
        "colab": {
          "base_uri": "https://localhost:8080/"
        },
        "id": "DQO-FdxE65q_",
        "outputId": "e7f1e43d-7610-4b4b-a2a8-55dca918b4dd"
      },
      "execution_count": null,
      "outputs": [
        {
          "output_type": "execute_result",
          "data": {
            "text/plain": [
              "tensor([0.0010, 0.0010, 0.0010, 0.0010, 0.0010, 0.0010, 0.0010, 0.0010, 0.0011,\n",
              "        0.0011, 0.0011, 0.0011, 0.0011, 0.0011, 0.0011, 0.0011, 0.0011, 0.0011,\n",
              "        0.0011, 0.0011, 0.0011, 0.0012, 0.0012, 0.0012, 0.0012, 0.0012, 0.0012,\n",
              "        0.0012, 0.0012, 0.0012, 0.0012, 0.0012, 0.0012, 0.0013, 0.0013, 0.0013,\n",
              "        0.0013, 0.0013, 0.0013, 0.0013, 0.0013, 0.0013, 0.0013, 0.0013, 0.0014,\n",
              "        0.0014, 0.0014, 0.0014, 0.0014, 0.0014, 0.0014, 0.0014, 0.0014, 0.0014,\n",
              "        0.0015, 0.0015, 0.0015, 0.0015, 0.0015, 0.0015, 0.0015, 0.0015, 0.0015,\n",
              "        0.0015, 0.0016, 0.0016, 0.0016, 0.0016, 0.0016, 0.0016, 0.0016, 0.0016,\n",
              "        0.0016, 0.0017, 0.0017, 0.0017, 0.0017, 0.0017, 0.0017, 0.0017, 0.0017,\n",
              "        0.0018, 0.0018, 0.0018, 0.0018, 0.0018, 0.0018, 0.0018, 0.0018, 0.0019,\n",
              "        0.0019, 0.0019, 0.0019, 0.0019, 0.0019, 0.0019, 0.0019, 0.0020, 0.0020,\n",
              "        0.0020, 0.0020, 0.0020, 0.0020, 0.0020, 0.0021, 0.0021, 0.0021, 0.0021,\n",
              "        0.0021, 0.0021, 0.0021, 0.0022, 0.0022, 0.0022, 0.0022, 0.0022, 0.0022,\n",
              "        0.0022, 0.0023, 0.0023, 0.0023, 0.0023, 0.0023, 0.0023, 0.0024, 0.0024,\n",
              "        0.0024, 0.0024, 0.0024, 0.0024, 0.0025, 0.0025, 0.0025, 0.0025, 0.0025,\n",
              "        0.0025, 0.0026, 0.0026, 0.0026, 0.0026, 0.0026, 0.0027, 0.0027, 0.0027,\n",
              "        0.0027, 0.0027, 0.0027, 0.0028, 0.0028, 0.0028, 0.0028, 0.0028, 0.0029,\n",
              "        0.0029, 0.0029, 0.0029, 0.0029, 0.0030, 0.0030, 0.0030, 0.0030, 0.0030,\n",
              "        0.0031, 0.0031, 0.0031, 0.0031, 0.0032, 0.0032, 0.0032, 0.0032, 0.0032,\n",
              "        0.0033, 0.0033, 0.0033, 0.0033, 0.0034, 0.0034, 0.0034, 0.0034, 0.0034,\n",
              "        0.0035, 0.0035, 0.0035, 0.0035, 0.0036, 0.0036, 0.0036, 0.0036, 0.0037,\n",
              "        0.0037, 0.0037, 0.0037, 0.0038, 0.0038, 0.0038, 0.0039, 0.0039, 0.0039,\n",
              "        0.0039, 0.0040, 0.0040, 0.0040, 0.0040, 0.0041, 0.0041, 0.0041, 0.0042,\n",
              "        0.0042, 0.0042, 0.0042, 0.0043, 0.0043, 0.0043, 0.0044, 0.0044, 0.0044,\n",
              "        0.0045, 0.0045, 0.0045, 0.0045, 0.0046, 0.0046, 0.0046, 0.0047, 0.0047,\n",
              "        0.0047, 0.0048, 0.0048, 0.0048, 0.0049, 0.0049, 0.0049, 0.0050, 0.0050,\n",
              "        0.0050, 0.0051, 0.0051, 0.0051, 0.0052, 0.0052, 0.0053, 0.0053, 0.0053,\n",
              "        0.0054, 0.0054, 0.0054, 0.0055, 0.0055, 0.0056, 0.0056, 0.0056, 0.0057,\n",
              "        0.0057, 0.0058, 0.0058, 0.0058, 0.0059, 0.0059, 0.0060, 0.0060, 0.0060,\n",
              "        0.0061, 0.0061, 0.0062, 0.0062, 0.0062, 0.0063, 0.0063, 0.0064, 0.0064,\n",
              "        0.0065, 0.0065, 0.0066, 0.0066, 0.0067, 0.0067, 0.0067, 0.0068, 0.0068,\n",
              "        0.0069, 0.0069, 0.0070, 0.0070, 0.0071, 0.0071, 0.0072, 0.0072, 0.0073,\n",
              "        0.0073, 0.0074, 0.0074, 0.0075, 0.0075, 0.0076, 0.0076, 0.0077, 0.0077,\n",
              "        0.0078, 0.0079, 0.0079, 0.0080, 0.0080, 0.0081, 0.0081, 0.0082, 0.0082,\n",
              "        0.0083, 0.0084, 0.0084, 0.0085, 0.0085, 0.0086, 0.0086, 0.0087, 0.0088,\n",
              "        0.0088, 0.0089, 0.0090, 0.0090, 0.0091, 0.0091, 0.0092, 0.0093, 0.0093,\n",
              "        0.0094, 0.0095, 0.0095, 0.0096, 0.0097, 0.0097, 0.0098, 0.0099, 0.0099,\n",
              "        0.0100, 0.0101, 0.0101, 0.0102, 0.0103, 0.0104, 0.0104, 0.0105, 0.0106,\n",
              "        0.0106, 0.0107, 0.0108, 0.0109, 0.0109, 0.0110, 0.0111, 0.0112, 0.0112,\n",
              "        0.0113, 0.0114, 0.0115, 0.0116, 0.0116, 0.0117, 0.0118, 0.0119, 0.0120,\n",
              "        0.0121, 0.0121, 0.0122, 0.0123, 0.0124, 0.0125, 0.0126, 0.0127, 0.0127,\n",
              "        0.0128, 0.0129, 0.0130, 0.0131, 0.0132, 0.0133, 0.0134, 0.0135, 0.0136,\n",
              "        0.0137, 0.0137, 0.0138, 0.0139, 0.0140, 0.0141, 0.0142, 0.0143, 0.0144,\n",
              "        0.0145, 0.0146, 0.0147, 0.0148, 0.0149, 0.0150, 0.0151, 0.0152, 0.0154,\n",
              "        0.0155, 0.0156, 0.0157, 0.0158, 0.0159, 0.0160, 0.0161, 0.0162, 0.0163,\n",
              "        0.0165, 0.0166, 0.0167, 0.0168, 0.0169, 0.0170, 0.0171, 0.0173, 0.0174,\n",
              "        0.0175, 0.0176, 0.0178, 0.0179, 0.0180, 0.0181, 0.0182, 0.0184, 0.0185,\n",
              "        0.0186, 0.0188, 0.0189, 0.0190, 0.0192, 0.0193, 0.0194, 0.0196, 0.0197,\n",
              "        0.0198, 0.0200, 0.0201, 0.0202, 0.0204, 0.0205, 0.0207, 0.0208, 0.0210,\n",
              "        0.0211, 0.0212, 0.0214, 0.0215, 0.0217, 0.0218, 0.0220, 0.0221, 0.0223,\n",
              "        0.0225, 0.0226, 0.0228, 0.0229, 0.0231, 0.0232, 0.0234, 0.0236, 0.0237,\n",
              "        0.0239, 0.0241, 0.0242, 0.0244, 0.0246, 0.0247, 0.0249, 0.0251, 0.0253,\n",
              "        0.0254, 0.0256, 0.0258, 0.0260, 0.0261, 0.0263, 0.0265, 0.0267, 0.0269,\n",
              "        0.0271, 0.0273, 0.0274, 0.0276, 0.0278, 0.0280, 0.0282, 0.0284, 0.0286,\n",
              "        0.0288, 0.0290, 0.0292, 0.0294, 0.0296, 0.0298, 0.0300, 0.0302, 0.0304,\n",
              "        0.0307, 0.0309, 0.0311, 0.0313, 0.0315, 0.0317, 0.0320, 0.0322, 0.0324,\n",
              "        0.0326, 0.0328, 0.0331, 0.0333, 0.0335, 0.0338, 0.0340, 0.0342, 0.0345,\n",
              "        0.0347, 0.0350, 0.0352, 0.0354, 0.0357, 0.0359, 0.0362, 0.0364, 0.0367,\n",
              "        0.0369, 0.0372, 0.0375, 0.0377, 0.0380, 0.0382, 0.0385, 0.0388, 0.0390,\n",
              "        0.0393, 0.0396, 0.0399, 0.0401, 0.0404, 0.0407, 0.0410, 0.0413, 0.0416,\n",
              "        0.0418, 0.0421, 0.0424, 0.0427, 0.0430, 0.0433, 0.0436, 0.0439, 0.0442,\n",
              "        0.0445, 0.0448, 0.0451, 0.0455, 0.0458, 0.0461, 0.0464, 0.0467, 0.0471,\n",
              "        0.0474, 0.0477, 0.0480, 0.0484, 0.0487, 0.0491, 0.0494, 0.0497, 0.0501,\n",
              "        0.0504, 0.0508, 0.0511, 0.0515, 0.0518, 0.0522, 0.0526, 0.0529, 0.0533,\n",
              "        0.0537, 0.0540, 0.0544, 0.0548, 0.0552, 0.0556, 0.0559, 0.0563, 0.0567,\n",
              "        0.0571, 0.0575, 0.0579, 0.0583, 0.0587, 0.0591, 0.0595, 0.0599, 0.0604,\n",
              "        0.0608, 0.0612, 0.0616, 0.0621, 0.0625, 0.0629, 0.0634, 0.0638, 0.0642,\n",
              "        0.0647, 0.0651, 0.0656, 0.0660, 0.0665, 0.0670, 0.0674, 0.0679, 0.0684,\n",
              "        0.0688, 0.0693, 0.0698, 0.0703, 0.0708, 0.0713, 0.0718, 0.0723, 0.0728,\n",
              "        0.0733, 0.0738, 0.0743, 0.0748, 0.0753, 0.0758, 0.0764, 0.0769, 0.0774,\n",
              "        0.0780, 0.0785, 0.0790, 0.0796, 0.0802, 0.0807, 0.0813, 0.0818, 0.0824,\n",
              "        0.0830, 0.0835, 0.0841, 0.0847, 0.0853, 0.0859, 0.0865, 0.0871, 0.0877,\n",
              "        0.0883, 0.0889, 0.0895, 0.0901, 0.0908, 0.0914, 0.0920, 0.0927, 0.0933,\n",
              "        0.0940, 0.0946, 0.0953, 0.0959, 0.0966, 0.0973, 0.0979, 0.0986, 0.0993,\n",
              "        0.1000, 0.1007, 0.1014, 0.1021, 0.1028, 0.1035, 0.1042, 0.1050, 0.1057,\n",
              "        0.1064, 0.1072, 0.1079, 0.1087, 0.1094, 0.1102, 0.1109, 0.1117, 0.1125,\n",
              "        0.1133, 0.1140, 0.1148, 0.1156, 0.1164, 0.1172, 0.1181, 0.1189, 0.1197,\n",
              "        0.1205, 0.1214, 0.1222, 0.1231, 0.1239, 0.1248, 0.1256, 0.1265, 0.1274,\n",
              "        0.1283, 0.1292, 0.1301, 0.1310, 0.1319, 0.1328, 0.1337, 0.1346, 0.1356,\n",
              "        0.1365, 0.1374, 0.1384, 0.1394, 0.1403, 0.1413, 0.1423, 0.1433, 0.1443,\n",
              "        0.1453, 0.1463, 0.1473, 0.1483, 0.1493, 0.1504, 0.1514, 0.1525, 0.1535,\n",
              "        0.1546, 0.1557, 0.1567, 0.1578, 0.1589, 0.1600, 0.1611, 0.1623, 0.1634,\n",
              "        0.1645, 0.1657, 0.1668, 0.1680, 0.1691, 0.1703, 0.1715, 0.1727, 0.1739,\n",
              "        0.1751, 0.1763, 0.1775, 0.1788, 0.1800, 0.1812, 0.1825, 0.1838, 0.1850,\n",
              "        0.1863, 0.1876, 0.1889, 0.1902, 0.1916, 0.1929, 0.1942, 0.1956, 0.1969,\n",
              "        0.1983, 0.1997, 0.2010, 0.2024, 0.2038, 0.2053, 0.2067, 0.2081, 0.2096,\n",
              "        0.2110, 0.2125, 0.2140, 0.2154, 0.2169, 0.2184, 0.2200, 0.2215, 0.2230,\n",
              "        0.2246, 0.2261, 0.2277, 0.2293, 0.2309, 0.2325, 0.2341, 0.2357, 0.2373,\n",
              "        0.2390, 0.2406, 0.2423, 0.2440, 0.2457, 0.2474, 0.2491, 0.2508, 0.2526,\n",
              "        0.2543, 0.2561, 0.2579, 0.2597, 0.2615, 0.2633, 0.2651, 0.2669, 0.2688,\n",
              "        0.2707, 0.2725, 0.2744, 0.2763, 0.2783, 0.2802, 0.2821, 0.2841, 0.2861,\n",
              "        0.2880, 0.2900, 0.2921, 0.2941, 0.2961, 0.2982, 0.3002, 0.3023, 0.3044,\n",
              "        0.3065, 0.3087, 0.3108, 0.3130, 0.3151, 0.3173, 0.3195, 0.3217, 0.3240,\n",
              "        0.3262, 0.3285, 0.3308, 0.3331, 0.3354, 0.3377, 0.3400, 0.3424, 0.3448,\n",
              "        0.3472, 0.3496, 0.3520, 0.3544, 0.3569, 0.3594, 0.3619, 0.3644, 0.3669,\n",
              "        0.3695, 0.3720, 0.3746, 0.3772, 0.3798, 0.3825, 0.3851, 0.3878, 0.3905,\n",
              "        0.3932, 0.3959, 0.3987, 0.4014, 0.4042, 0.4070, 0.4098, 0.4127, 0.4155,\n",
              "        0.4184, 0.4213, 0.4243, 0.4272, 0.4302, 0.4331, 0.4362, 0.4392, 0.4422,\n",
              "        0.4453, 0.4484, 0.4515, 0.4546, 0.4578, 0.4610, 0.4642, 0.4674, 0.4706,\n",
              "        0.4739, 0.4772, 0.4805, 0.4838, 0.4872, 0.4906, 0.4940, 0.4974, 0.5008,\n",
              "        0.5043, 0.5078, 0.5113, 0.5149, 0.5185, 0.5221, 0.5257, 0.5293, 0.5330,\n",
              "        0.5367, 0.5404, 0.5442, 0.5479, 0.5517, 0.5556, 0.5594, 0.5633, 0.5672,\n",
              "        0.5712, 0.5751, 0.5791, 0.5831, 0.5872, 0.5913, 0.5954, 0.5995, 0.6036,\n",
              "        0.6078, 0.6120, 0.6163, 0.6206, 0.6249, 0.6292, 0.6336, 0.6380, 0.6424,\n",
              "        0.6469, 0.6513, 0.6559, 0.6604, 0.6650, 0.6696, 0.6743, 0.6789, 0.6837,\n",
              "        0.6884, 0.6932, 0.6980, 0.7028, 0.7077, 0.7126, 0.7176, 0.7225, 0.7275,\n",
              "        0.7326, 0.7377, 0.7428, 0.7480, 0.7531, 0.7584, 0.7636, 0.7689, 0.7743,\n",
              "        0.7796, 0.7850, 0.7905, 0.7960, 0.8015, 0.8071, 0.8127, 0.8183, 0.8240,\n",
              "        0.8297, 0.8355, 0.8412, 0.8471, 0.8530, 0.8589, 0.8648, 0.8708, 0.8769,\n",
              "        0.8830, 0.8891, 0.8953, 0.9015, 0.9077, 0.9140, 0.9204, 0.9268, 0.9332,\n",
              "        0.9397, 0.9462, 0.9528, 0.9594, 0.9660, 0.9727, 0.9795, 0.9863, 0.9931,\n",
              "        1.0000])"
            ]
          },
          "metadata": {},
          "execution_count": 81
        }
      ]
    },
    {
      "cell_type": "code",
      "source": [
        "stepi = []\n",
        "lrei = []\n",
        "lossi = []\n",
        "\n",
        "for i in range(1000):\n",
        "  #pick up random mini batches of 32 row from the data set in the each iteration\n",
        "  rand_index = torch.randint(0, X.shape[0], (32,))\n",
        "\n",
        "  #forward pass\n",
        "  emb = C[X[rand_index]]\n",
        "  logits = ((emb.view(-1,6) @ W1 + b1).tanh()) @ W2 + b2\n",
        "  loss = F.cross_entropy(logits, Y[rand_index])\n",
        "\n",
        "  #backward\n",
        "  for p in parameters:\n",
        "    p.grad = None\n",
        "  loss.backward()\n",
        "\n",
        "  lr = lrs[i]\n",
        "  #tune the parameters\n",
        "  for p in parameters:\n",
        "    p.data += -lr * p.grad\n",
        "\n",
        "  stepi.append(i)\n",
        "  lrei.append(lr)\n",
        "  lossi.append(loss.item())"
      ],
      "metadata": {
        "id": "jeq2uC6ukYAK"
      },
      "execution_count": null,
      "outputs": []
    },
    {
      "cell_type": "code",
      "source": [
        "plt.plot(lrei, lossi)"
      ],
      "metadata": {
        "colab": {
          "base_uri": "https://localhost:8080/",
          "height": 282
        },
        "id": "6QHvYE6Co7ii",
        "outputId": "19be65f2-df7c-4c97-ce7c-0508ed3db1ff"
      },
      "execution_count": null,
      "outputs": [
        {
          "output_type": "execute_result",
          "data": {
            "text/plain": [
              "[<matplotlib.lines.Line2D at 0x7f56cd8ae4c0>]"
            ]
          },
          "metadata": {},
          "execution_count": 112
        },
        {
          "output_type": "display_data",
          "data": {
            "text/plain": [
              "<Figure size 432x288 with 1 Axes>"
            ],
            "image/png": "[encoded data removed]"
          },
          "metadata": {
            "needs_background": "light"
          }
        }
      ]
    },
    {
      "cell_type": "markdown",
      "source": [
        "So based on these we can see it's very stable when it's around -0.1. therefore it can be used as the learning rate"
      ],
      "metadata": {
        "id": "nnUaTK1PaisC"
      }
    },
    {
      "cell_type": "code",
      "source": [
        "plt.plot(stepi, lossi)"
      ],
      "metadata": {
        "colab": {
          "base_uri": "https://localhost:8080/",
          "height": 282
        },
        "id": "Nwe_ndF-H_OU",
        "outputId": "6e646890-fc18-4b09-d440-5933c898197b"
      },
      "execution_count": null,
      "outputs": [
        {
          "output_type": "execute_result",
          "data": {
            "text/plain": [
              "[<matplotlib.lines.Line2D at 0x7f56cd6c84f0>]"
            ]
          },
          "metadata": {},
          "execution_count": 113
        },
        {
          "output_type": "display_data",
          "data": {
            "text/plain": [
              "<Figure size 432x288 with 1 Axes>"
            ],
            "image/png": "[encoded data removed]"
          },
          "metadata": {
            "needs_background": "light"
          }
        }
      ]
    },
    {
      "cell_type": "code",
      "source": [
        "emb = C[X] \n",
        "h = torch.tanh(emb.view(-1, 6) @ W1 + b1)\n",
        "logits = h @ W2 + b2\n",
        "loss = F.cross_entropy(logits, Y)\n",
        "loss"
      ],
      "metadata": {
        "colab": {
          "base_uri": "https://localhost:8080/"
        },
        "id": "D7B2LyOP7jRb",
        "outputId": "c28a8d6f-bcea-40f0-bbcd-acff60482c60"
      },
      "execution_count": null,
      "outputs": [
        {
          "output_type": "execute_result",
          "data": {
            "text/plain": [
              "tensor(7.8614, grad_fn=<NllLossBackward0>)"
            ]
          },
          "metadata": {},
          "execution_count": 115
        }
      ]
    },
    {
      "cell_type": "code",
      "source": [
        "plt.figure(figsize=(8,8))\n",
        "plt.scatter(C[:,0].data, C[:,1].data, s=200)\n",
        "for i in range(C.shape[0]):\n",
        "    plt.text(C[i,0].item(), C[i,1].item(), itos[i], ha=\"center\", va=\"center\", color='white')\n",
        "plt.grid('minor')"
      ],
      "metadata": {
        "colab": {
          "base_uri": "https://localhost:8080/",
          "height": 483
        },
        "id": "K2gqxyR1-WTV",
        "outputId": "5301f144-db9c-4f39-e951-7a8e20219c99"
      },
      "execution_count": 175,
      "outputs": [
        {
          "output_type": "display_data",
          "data": {
            "text/plain": [
              "<Figure size 576x576 with 1 Axes>"
            ],
            "image/png": "[encoded data removed]"
          },
          "metadata": {
            "needs_background": "light"
          }
        }
      ]
    },
    {
      "cell_type": "markdown",
      "source": [
        "Since we are using the entire data we will get to see the model overfitting too much and give the same results as the training data set. but not necessarily any new names. therefore we are going to split the data set into 3. those are train, dev and test in the ratio of 8:1:1\n",
        "\n",
        "train will be used to train the model (forward, backward and updating the parameter)\n",
        "\n",
        "dev will be used to tune the hyber parameters\n",
        "\n",
        "test will be used to validate the model"
      ],
      "metadata": {
        "id": "wnVOh6V6eKgv"
      }
    },
    {
      "cell_type": "code",
      "source": [
        "block_size = 3 \n",
        "\n",
        "def build_dataset(words):  \n",
        "  X, Y = [], []\n",
        "  for w in words:\n",
        "    context = [0] * block_size\n",
        "    for ch in w + '.':\n",
        "      ix = stoi[ch]\n",
        "      X.append(context)\n",
        "      Y.append(ix)\n",
        "      context = context[1:] + [ix] \n",
        "\n",
        "  X = torch.tensor(X)\n",
        "  Y = torch.tensor(Y)\n",
        "  print(X.shape, Y.shape)\n",
        "  return X, Y\n",
        "\n",
        "import random\n",
        "random.seed(42)\n",
        "random.shuffle(words)\n",
        "n1 = int(0.8*len(words))\n",
        "n2 = int(0.9*len(words))\n",
        "\n",
        "Xtr, Ytr = build_dataset(words[:n1])\n",
        "Xdev, Ydev = build_dataset(words[n1:n2])\n",
        "Xtest, Ytest = build_dataset(words[n2:])"
      ],
      "metadata": {
        "colab": {
          "base_uri": "https://localhost:8080/"
        },
        "id": "xmiAYB4uhRHq",
        "outputId": "1c91aa9b-8587-43a8-c064-fb973de59213"
      },
      "execution_count": null,
      "outputs": [
        {
          "output_type": "stream",
          "name": "stdout",
          "text": [
            "torch.Size([182484, 3]) torch.Size([182484])\n",
            "torch.Size([22869, 3]) torch.Size([22869])\n",
            "torch.Size([22793, 3]) torch.Size([22793])\n"
          ]
        }
      ]
    },
    {
      "cell_type": "code",
      "source": [
        "C = torch.randn((27,2),requires_grad=True)\n",
        "W1 = torch.randn((6,100), requires_grad=True)\n",
        "b1 = torch.randn(100, requires_grad=True)\n",
        "W2 = torch.randn((100, 27), requires_grad=True)\n",
        "b2 = torch.randn(27, requires_grad=True)\n",
        "parameters = [C, W1, b1, W2, b2]\n",
        "\n",
        "stepi = []\n",
        "lrei = []\n",
        "lossi = []\n",
        "\n",
        "for i in range(10000):\n",
        "  #pick up random mini batches of 32 row from the data set in the each iteration\n",
        "  rand_index = torch.randint(0, Xtr.shape[0], (32,))\n",
        "\n",
        "  #forward pass\n",
        "  emb = C[Xtr[rand_index]]\n",
        "  logits = ((emb.view(-1,6) @ W1 + b1).tanh()) @ W2 + b2\n",
        "  loss = F.cross_entropy(logits, Ytr[rand_index])\n",
        "\n",
        "  #backward\n",
        "  for p in parameters:\n",
        "    p.grad = None\n",
        "  loss.backward()\n",
        "\n",
        "  #lr = lrs[i]\n",
        "  #tune the parameters\n",
        "  for p in parameters:\n",
        "    p.data += -0.1 * p.grad\n",
        "\n",
        "  stepi.append(i)\n",
        "  #lrei.append(lr)\n",
        "  lossi.append(loss.item())"
      ],
      "metadata": {
        "id": "qAfNk0xPhOhQ"
      },
      "execution_count": null,
      "outputs": []
    },
    {
      "cell_type": "code",
      "source": [
        "emb = C[Xtr] \n",
        "h = torch.tanh(emb.view(-1, 6) @ W1 + b1)\n",
        "logits = h @ W2 + b2\n",
        "loss = F.cross_entropy(logits, Ytr)\n",
        "loss\n",
        "print(f'loss in training dataset: {loss.item()}')\n",
        "\n",
        "emb = C[Xdev] \n",
        "h = torch.tanh(emb.view(-1, 6) @ W1 + b1)\n",
        "logits = h @ W2 + b2\n",
        "loss = F.cross_entropy(logits, Ydev)\n",
        "loss\n",
        "print(f'loss in dev dataset: {loss.item()}')"
      ],
      "metadata": {
        "colab": {
          "base_uri": "https://localhost:8080/"
        },
        "id": "l8zO0VLKk7eG",
        "outputId": "3f5cfa98-8f89-4677-f60b-af9adccd3af7"
      },
      "execution_count": null,
      "outputs": [
        {
          "output_type": "stream",
          "name": "stdout",
          "text": [
            "loss in training dataset: 2.483764410018921\n",
            "loss in dev dataset: 2.487154483795166\n"
          ]
        }
      ]
    },
    {
      "cell_type": "markdown",
      "source": [
        "So here the loss in dev and training are about equal. that means data is not overfiting instead it's underfitting. therefore we need to increase the parameters. so better try the same with bit higher neurons in the hidden layer"
      ],
      "metadata": {
        "id": "6kG0blOZojtt"
      }
    },
    {
      "cell_type": "code",
      "source": [
        "C = torch.randn((27,2),requires_grad=True)\n",
        "W1 = torch.randn((6,300), requires_grad=True)\n",
        "b1 = torch.randn(300, requires_grad=True)\n",
        "W2 = torch.randn((300, 27), requires_grad=True)\n",
        "b2 = torch.randn(27, requires_grad=True)\n",
        "parameters = [C, W1, b1, W2, b2]"
      ],
      "metadata": {
        "id": "08cR07f3qaVi"
      },
      "execution_count": 178,
      "outputs": []
    },
    {
      "cell_type": "code",
      "source": [
        "stepi = []\n",
        "lrei = []\n",
        "lossi = []\n",
        "\n",
        "for i in range(50000):\n",
        "  #pick up random mini batches of 32 row from the data set in the each iteration\n",
        "  rand_index = torch.randint(0, Xtr.shape[0], (32,))\n",
        "\n",
        "  #forward pass\n",
        "  emb = C[Xtr[rand_index]]\n",
        "  logits = ((emb.view(-1,6) @ W1 + b1).tanh()) @ W2 + b2\n",
        "  loss = F.cross_entropy(logits, Ytr[rand_index])\n",
        "\n",
        "  #backward\n",
        "  for p in parameters:\n",
        "    p.grad = None\n",
        "  loss.backward()\n",
        "\n",
        "  #lr = lrs[i]\n",
        "  #tune the parameters\n",
        "  for p in parameters:\n",
        "    p.data += -0.1 * p.grad\n",
        "\n",
        "  stepi.append(i)\n",
        "  #lrei.append(lr)\n",
        "  lossi.append(loss.item())"
      ],
      "metadata": {
        "id": "MoyJYzCtoz4Q"
      },
      "execution_count": null,
      "outputs": []
    },
    {
      "cell_type": "code",
      "source": [
        "emb = C[Xtr] \n",
        "h = torch.tanh(emb.view(-1, 6) @ W1 + b1)\n",
        "logits = h @ W2 + b2\n",
        "loss = F.cross_entropy(logits, Ytr)\n",
        "loss\n",
        "print(f'loss in training dataset: {loss.item()}')\n",
        "\n",
        "emb = C[Xdev] \n",
        "h = torch.tanh(emb.view(-1, 6) @ W1 + b1)\n",
        "logits = h @ W2 + b2\n",
        "loss = F.cross_entropy(logits, Ydev)\n",
        "loss\n",
        "print(f'loss in dev dataset: {loss.item()}')"
      ],
      "metadata": {
        "colab": {
          "base_uri": "https://localhost:8080/"
        },
        "id": "cN79zZXlo4v0",
        "outputId": "4991c02d-7ead-43f0-aed2-8548f2f112d5"
      },
      "execution_count": 174,
      "outputs": [
        {
          "output_type": "stream",
          "name": "stdout",
          "text": [
            "loss in training dataset: 2.3873119354248047\n",
            "loss in dev dataset: 2.3972957134246826\n"
          ]
        }
      ]
    },
    {
      "cell_type": "markdown",
      "source": [
        "Whenever we try the retrain again again it's not squashing below a particular value. the reason for this could be the embeding dimension"
      ],
      "metadata": {
        "id": "CubptZJftHqN"
      }
    },
    {
      "cell_type": "code",
      "source": [
        "C = torch.randn((27,10),requires_grad=True)\n",
        "W1 = torch.randn((30,300), requires_grad=True)\n",
        "b1 = torch.randn(300, requires_grad=True)\n",
        "W2 = torch.randn((300, 27), requires_grad=True)\n",
        "b2 = torch.randn(27, requires_grad=True)\n",
        "parameters = [C, W1, b1, W2, b2]"
      ],
      "metadata": {
        "id": "M1Qqeel9tiRu"
      },
      "execution_count": 180,
      "outputs": []
    },
    {
      "cell_type": "code",
      "source": [
        "stepi = []\n",
        "lrei = []\n",
        "lossi = []\n",
        "\n",
        "for i in range(50000):\n",
        "  #pick up random mini batches of 32 row from the data set in the each iteration\n",
        "  rand_index = torch.randint(0, Xtr.shape[0], (32,))\n",
        "\n",
        "  #forward pass\n",
        "  emb = C[Xtr[rand_index]]\n",
        "  logits = ((emb.view(-1,30) @ W1 + b1).tanh()) @ W2 + b2\n",
        "  loss = F.cross_entropy(logits, Ytr[rand_index])\n",
        "\n",
        "  #backward\n",
        "  for p in parameters:\n",
        "    p.grad = None\n",
        "  loss.backward()\n",
        "\n",
        "  #lr = lrs[i]\n",
        "  #tune the parameters\n",
        "  for p in parameters:\n",
        "    p.data += -0.1 * p.grad\n",
        "\n",
        "  stepi.append(i)\n",
        "  #lrei.append(lr)\n",
        "  lossi.append(loss.item())\n",
        "\n",
        "emb = C[Xtr] \n",
        "h = torch.tanh(emb.view(-1, 30) @ W1 + b1)\n",
        "logits = h @ W2 + b2\n",
        "loss = F.cross_entropy(logits, Ytr)\n",
        "loss\n",
        "print(f'loss in training dataset: {loss.item()}')\n",
        "\n",
        "emb = C[Xdev] \n",
        "h = torch.tanh(emb.view(-1, 30) @ W1 + b1)\n",
        "logits = h @ W2 + b2\n",
        "loss = F.cross_entropy(logits, Ydev)\n",
        "loss\n",
        "print(f'loss in dev dataset: {loss.item()}')"
      ],
      "metadata": {
        "colab": {
          "base_uri": "https://localhost:8080/"
        },
        "id": "8lCozkGetn0W",
        "outputId": "6f566ed5-93a6-4661-a996-ea79955628d5"
      },
      "execution_count": 186,
      "outputs": [
        {
          "output_type": "stream",
          "name": "stdout",
          "text": [
            "loss in training dataset: 2.1987736225128174\n",
            "loss in dev dataset: 2.281503438949585\n"
          ]
        }
      ]
    },
    {
      "cell_type": "code",
      "source": [
        "g = torch.Generator().manual_seed(2147483647)\n",
        "for _ in range(20):\n",
        "    \n",
        "    out = []\n",
        "    context = [0] * block_size\n",
        "    while True:\n",
        "      emb = C[torch.tensor([context])] \n",
        "      h = torch.tanh(emb.view(1, -1) @ W1 + b1)\n",
        "      logits = h @ W2 + b2\n",
        "      probs = F.softmax(logits, dim=1)\n",
        "      ix = torch.multinomial(probs, num_samples=1, generator=g).item()\n",
        "      context = context[1:] + [ix]\n",
        "      out.append(ix)\n",
        "      if ix == 0:\n",
        "        break\n",
        "    \n",
        "    print(''.join(itos[i] for i in out))"
      ],
      "metadata": {
        "colab": {
          "base_uri": "https://localhost:8080/"
        },
        "id": "OEpVjXao-iEQ",
        "outputId": "9e699914-1e2c-4766-a803-755b0da26a6a"
      },
      "execution_count": 187,
      "outputs": [
        {
          "output_type": "stream",
          "name": "stdout",
          "text": [
            "dex.\n",
            "maleal.\n",
            "makilani.\n",
            "ahreel.\n",
            "mckina.\n",
            "mella.\n",
            "kamaiah.\n",
            "samiyah.\n",
            "jakhi.\n",
            "mothi.\n",
            "mckiella.\n",
            "kinzie.\n",
            "darenley.\n",
            "mcki.\n",
            "suhakainen.\n",
            "matbs.\n",
            "mhuringa.\n",
            "tahivan.\n",
            "mydra.\n",
            "anesley.\n"
          ]
        }
      ]
    },
    {
      "cell_type": "code",
      "source": [],
      "metadata": {
        "id": "iyN6rB-B-oZe"
      },
      "execution_count": null,
      "outputs": []
    }
  ],
  "metadata": {
    "colab": {
      "provenance": [],
      "authorship_tag": "ABX9TyNrEqWaiX1QXqX1L4R34ItZ",
      "include_colab_link": true
    },
    "kernelspec": {
      "display_name": "Python 3",
      "name": "python3"
    },
    "language_info": {
      "name": "python"
    }
  },
  "nbformat": 4,
  "nbformat_minor": 0
}