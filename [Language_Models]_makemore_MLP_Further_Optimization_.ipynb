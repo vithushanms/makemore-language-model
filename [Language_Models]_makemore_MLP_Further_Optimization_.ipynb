{
  "cells": [
    {
      "cell_type": "markdown",
      "metadata": {
        "id": "view-in-github",
        "colab_type": "text"
      },
      "source": [
        "<a href=\"https://colab.research.google.com/github/vithushanms/makemore-language-model/blob/main/%5BLanguage_Models%5D_makemore_MLP_Further_Optimization_.ipynb\" target=\"_parent\"><img src=\"https://colab.research.google.com/assets/colab-badge.svg\" alt=\"Open In Colab\"/></a>"
      ]
    },
    {
      "cell_type": "code",
      "execution_count": 41,
      "metadata": {
        "id": "jV_VKEpC1SEs"
      },
      "outputs": [],
      "source": [
        "import torch\n",
        "import torch.nn.functional as F\n",
        "import matplotlib.pyplot as plt # for making figures\n",
        "%matplotlib inline"
      ]
    },
    {
      "cell_type": "code",
      "execution_count": 42,
      "metadata": {
        "colab": {
          "base_uri": "https://localhost:8080/"
        },
        "id": "q6lGUb1f1WXO",
        "outputId": "02d129d8-3b9f-45da-d3d1-29152f716c8d"
      },
      "outputs": [
        {
          "output_type": "stream",
          "name": "stdout",
          "text": [
            "Drive already mounted at /content/drive; to attempt to forcibly remount, call drive.mount(\"/content/drive\", force_remount=True).\n"
          ]
        }
      ],
      "source": [
        "#if cloud\n",
        "from google.colab import drive\n",
        "drive.mount('/content/drive')\n",
        "dataFilePath = '/content/drive/My Drive/Publications/Neural Networks Research/makemore: next char prediction language model/names.txt'\n",
        "words = open(dataFilePath, 'r').read().splitlines() "
      ]
    },
    {
      "cell_type": "code",
      "execution_count": 43,
      "metadata": {
        "colab": {
          "base_uri": "https://localhost:8080/"
        },
        "id": "TJRK_EOV1_8U",
        "outputId": "16d1c649-477e-48ad-a754-610e5de67a29"
      },
      "outputs": [
        {
          "output_type": "stream",
          "name": "stdout",
          "text": [
            "{1: 'a', 2: 'b', 3: 'c', 4: 'd', 5: 'e', 6: 'f', 7: 'g', 8: 'h', 9: 'i', 10: 'j', 11: 'k', 12: 'l', 13: 'm', 14: 'n', 15: 'o', 16: 'p', 17: 'q', 18: 'r', 19: 's', 20: 't', 21: 'u', 22: 'v', 23: 'w', 24: 'x', 25: 'y', 26: 'z', 0: '.'}\n"
          ]
        }
      ],
      "source": [
        "# encode chars in the words to integer\n",
        "chars = sorted(list(set(''.join(words))))\n",
        "stoi = {s:i+1 for i,s in enumerate(chars)}\n",
        "stoi['.'] = 0\n",
        "itos = {i:s for s,i in stoi.items()}\n",
        "print(itos)"
      ]
    },
    {
      "cell_type": "code",
      "source": [
        "block_size = 3 \n",
        "\n",
        "def build_dataset(words):  \n",
        "  X, Y = [], []\n",
        "  for w in words:\n",
        "    context = [0] * block_size\n",
        "    for ch in w + '.':\n",
        "      ix = stoi[ch]\n",
        "      X.append(context)\n",
        "      Y.append(ix)\n",
        "      context = context[1:] + [ix] \n",
        "\n",
        "  X = torch.tensor(X)\n",
        "  Y = torch.tensor(Y)\n",
        "  print(X.shape, Y.shape)\n",
        "  return X, Y\n",
        "\n",
        "import random\n",
        "random.seed(42)\n",
        "random.shuffle(words)\n",
        "n1 = int(0.8*len(words))\n",
        "n2 = int(0.9*len(words))\n",
        "\n",
        "Xtr, Ytr = build_dataset(words[:n1])\n",
        "Xdev, Ydev = build_dataset(words[n1:n2])\n",
        "Xtest, Ytest = build_dataset(words[n2:])"
      ],
      "metadata": {
        "colab": {
          "base_uri": "https://localhost:8080/"
        },
        "id": "xmiAYB4uhRHq",
        "outputId": "e141c482-47a3-4ba3-d86c-30c5c3a5c8a6"
      },
      "execution_count": 44,
      "outputs": [
        {
          "output_type": "stream",
          "name": "stdout",
          "text": [
            "torch.Size([182625, 3]) torch.Size([182625])\n",
            "torch.Size([22655, 3]) torch.Size([22655])\n",
            "torch.Size([22866, 3]) torch.Size([22866])\n"
          ]
        }
      ]
    },
    {
      "cell_type": "code",
      "source": [
        "C = torch.randn((27,10),requires_grad=True)\n",
        "W1 = torch.randn((30,300), requires_grad=True)\n",
        "b1 = torch.randn(300, requires_grad=True)\n",
        "W2 = torch.randn((300, 27), requires_grad=True)\n",
        "b2 = torch.randn(27, requires_grad=True)\n",
        "parameters = [C, W1, b1, W2, b2]"
      ],
      "metadata": {
        "id": "M1Qqeel9tiRu"
      },
      "execution_count": 45,
      "outputs": []
    },
    {
      "cell_type": "code",
      "source": [
        "stepi = []\n",
        "lrei = []\n",
        "lossi = []\n",
        "\n",
        "minibatch_size = 32\n",
        "dimension = 30\n",
        "num_0f_iteration = 50000\n",
        "\n",
        "for i in range(num_0f_iteration):\n",
        "  #pick up random mini batches of 32 row from the data set in the each iteration\n",
        "  rand_index = torch.randint(0, Xtr.shape[0], (minibatch_size,))\n",
        "\n",
        "  #forward pass\n",
        "  emb = C[Xtr[rand_index]]\n",
        "  logits = ((emb.view(-1,dimension) @ W1 + b1).tanh()) @ W2 + b2\n",
        "  loss = F.cross_entropy(logits, Ytr[rand_index])\n",
        "\n",
        "  #backward\n",
        "  for p in parameters:\n",
        "    p.grad = None\n",
        "  loss.backward()\n",
        "\n",
        "  #lr = lrs[i]\n",
        "  #tune the parameters\n",
        "  for p in parameters:\n",
        "    p.data += -0.1 * p.grad\n",
        "\n",
        "  stepi.append(i)\n",
        "  #lrei.append(lr)\n",
        "  lossi.append(loss.item())"
      ],
      "metadata": {
        "id": "8lCozkGetn0W"
      },
      "execution_count": 46,
      "outputs": []
    },
    {
      "cell_type": "code",
      "source": [
        "@torch.no_grad()\n",
        "def split_loss(split):\n",
        "  X, Y = {\n",
        "      'test' : { Xtest, Ytest },\n",
        "      'dev' : { Xdev, Ydev },\n",
        "      'train': { Xtr, Ytr }\n",
        "  }[split]\n",
        "  emb = C[X]\n",
        "  out_h = (emb.view(-1, dimension) @ W1 + b1).tanh()\n",
        "  logits = out_h @ W2 + b2\n",
        "  loss = F.cross_entropy(logits, Y)\n",
        "  print(f'{split} : {loss.item()}')"
      ],
      "metadata": {
        "id": "RD8RHifY6aIQ"
      },
      "execution_count": 47,
      "outputs": []
    },
    {
      "cell_type": "code",
      "source": [
        "split_loss('dev')\n",
        "split_loss('train')"
      ],
      "metadata": {
        "colab": {
          "base_uri": "https://localhost:8080/"
        },
        "id": "aInDhzZ87QVC",
        "outputId": "55b1359e-4617-41fc-cc28-ace4b3623871"
      },
      "execution_count": 48,
      "outputs": [
        {
          "output_type": "stream",
          "name": "stdout",
          "text": [
            "dev : 2.396000623703003\n",
            "train : 2.3585641384124756\n"
          ]
        }
      ]
    },
    {
      "cell_type": "markdown",
      "source": [
        "If we print all the loss in the iteration the loss starts at very high number"
      ],
      "metadata": {
        "id": "Q0xGS9_p81H0"
      }
    },
    {
      "cell_type": "code",
      "source": [
        "plt.plot(stepi, lossi)"
      ],
      "metadata": {
        "colab": {
          "base_uri": "https://localhost:8080/",
          "height": 282
        },
        "id": "XWv5uObt94du",
        "outputId": "a3850fb1-fe2a-41b4-9c73-f6f809a6deae"
      },
      "execution_count": 49,
      "outputs": [
        {
          "output_type": "execute_result",
          "data": {
            "text/plain": [
              "[<matplotlib.lines.Line2D at 0x7ff6b9f29b80>]"
            ]
          },
          "metadata": {},
          "execution_count": 49
        },
        {
          "output_type": "display_data",
          "data": {
            "text/plain": [
              "<Figure size 432x288 with 1 Axes>"
            ],
            "image/png": "[encoded data removed]"
          },
          "metadata": {
            "needs_background": "light"
          }
        }
      ]
    },
    {
      "cell_type": "markdown",
      "source": [
        "This makes the model iterate few times unnessesarily and makes the training process more innefficent. therefore we can start from a realistic loss\n",
        "\n",
        "since we have the 27 characters the releastic probability for the model would be somewhere close to 1/27"
      ],
      "metadata": {
        "id": "Ax3WCT559-Lf"
      }
    },
    {
      "cell_type": "code",
      "source": [
        "#releastic loss would be close to\n",
        "-torch.tensor((1/27)).log()"
      ],
      "metadata": {
        "colab": {
          "base_uri": "https://localhost:8080/"
        },
        "id": "aOY2n6vM-XoI",
        "outputId": "46e07727-ebe5-42cc-a08b-435132e60c23"
      },
      "execution_count": 50,
      "outputs": [
        {
          "output_type": "execute_result",
          "data": {
            "text/plain": [
              "tensor(3.2958)"
            ]
          },
          "metadata": {},
          "execution_count": 50
        }
      ]
    },
    {
      "cell_type": "code",
      "source": [
        "#modifyin the last layer's output logits to be very close to 0, then it would probabily\n",
        "n_emb = 10\n",
        "n_hidden = 200\n",
        "C = torch.randn((27,n_emb))\n",
        "W1 = torch.randn((n_emb*3,n_hidden))\n",
        "b1 = torch.randn(n_hidden)\n",
        "W2 = torch.randn((n_hidden, 27)) * 0.01\n",
        "b2 = torch.randn(27) *0\n",
        "parameters = [C, W1, b1, W2, b2]\n",
        "for p in parameters:\n",
        "    p.requires_grad = True"
      ],
      "metadata": {
        "id": "9Heook8NAE9T"
      },
      "execution_count": 81,
      "outputs": []
    },
    {
      "cell_type": "code",
      "source": [
        "stepi = []\n",
        "lrei = []\n",
        "lossi = []\n",
        "\n",
        "minibatch_size = 32\n",
        "dimension = 30\n",
        "num_0f_iteration = 50000\n",
        "\n",
        "for i in range(num_0f_iteration):\n",
        "  #pick up random mini batches of 32 row from the data set in the each iteration\n",
        "  rand_index = torch.randint(0, Xtr.shape[0], (minibatch_size,))\n",
        "\n",
        "  #forward pass\n",
        "  emb = C[Xtr[rand_index]]\n",
        "  out_h_preactivation = (emb.view(-1,dimension) @ W1 + b1)\n",
        "  out_h = out_h_preactivation.tanh()\n",
        "  logits = (out_h) @ W2 + b2\n",
        "  loss = F.cross_entropy(logits, Ytr[rand_index])\n",
        "\n",
        "  #backward\n",
        "  for p in parameters:\n",
        "    p.grad = None\n",
        "  loss.backward()\n",
        "\n",
        "  #lr = lrs[i]\n",
        "  #tune the parameters\n",
        "  for p in parameters:\n",
        "    p.data += -0.1 * p.grad\n",
        "\n",
        "  stepi.append(i)\n",
        "  #lrei.append(lr)\n",
        "  lossi.append(loss.item())"
      ],
      "metadata": {
        "id": "vDNL4RuHBRhq"
      },
      "execution_count": 82,
      "outputs": []
    },
    {
      "cell_type": "code",
      "source": [
        "plt.plot(stepi, lossi)"
      ],
      "metadata": {
        "colab": {
          "base_uri": "https://localhost:8080/",
          "height": 282
        },
        "id": "SO1Fgv1SBVYI",
        "outputId": "4db0ed1e-cb4c-421d-d034-405ded034732"
      },
      "execution_count": 80,
      "outputs": [
        {
          "output_type": "execute_result",
          "data": {
            "text/plain": [
              "[<matplotlib.lines.Line2D at 0x7ff6b99371f0>]"
            ]
          },
          "metadata": {},
          "execution_count": 80
        },
        {
          "output_type": "display_data",
          "data": {
            "text/plain": [
              "<Figure size 432x288 with 1 Axes>"
            ],
            "image/png": "[encoded data removed]"
          },
          "metadata": {
            "needs_background": "light"
          }
        }
      ]
    },
    {
      "cell_type": "markdown",
      "source": [
        "Now if we look at the output from the hidden layers are basically passing through the tanh function. let's see the values which are coming out from this tanh activation in a histogram "
      ],
      "metadata": {
        "id": "mf9X9zoRFlBI"
      }
    },
    {
      "cell_type": "code",
      "source": [
        "plt.hist(out_h.view(-1).tolist())"
      ],
      "metadata": {
        "colab": {
          "base_uri": "https://localhost:8080/",
          "height": 334
        },
        "id": "xaQDiVjXGbUE",
        "outputId": "7b551d4a-0c94-4743-e73b-971979b84b7b"
      },
      "execution_count": 84,
      "outputs": [
        {
          "output_type": "execute_result",
          "data": {
            "text/plain": [
              "(array([2578.,  231.,  175.,  115.,  142.,  129.,  118.,  142.,  184.,\n",
              "        2586.]),\n",
              " array([-1. , -0.8, -0.6, -0.4, -0.2,  0. ,  0.2,  0.4,  0.6,  0.8,  1. ]),\n",
              " <BarContainer object of 10 artists>)"
            ]
          },
          "metadata": {},
          "execution_count": 84
        },
        {
          "output_type": "display_data",
          "data": {
            "text/plain": [
              "<Figure size 432x288 with 1 Axes>"
            ],
            "image/png": "[encoded data removed]"
          },
          "metadata": {
            "needs_background": "light"
          }
        }
      ]
    },
    {
      "cell_type": "markdown",
      "source": [
        "Since most of them are close to 1 and -1, it's not a very good sign"
      ],
      "metadata": {
        "id": "sC_oDj93bgrz"
      }
    },
    {
      "cell_type": "code",
      "source": [
        "plt.hist(out_h_preactivation.view(-1).tolist())"
      ],
      "metadata": {
        "colab": {
          "base_uri": "https://localhost:8080/",
          "height": 369
        },
        "id": "A8vUHYFYURqa",
        "outputId": "7e7c9aa0-7991-40e3-bb20-2a72ee01e215"
      },
      "execution_count": 85,
      "outputs": [
        {
          "output_type": "execute_result",
          "data": {
            "text/plain": [
              "(array([2.000e+00, 6.000e+00, 7.300e+01, 3.650e+02, 1.131e+03, 2.229e+03,\n",
              "        1.725e+03, 6.840e+02, 1.590e+02, 2.600e+01]),\n",
              " array([-26.4328022 , -21.84644413, -17.26008606, -12.67372799,\n",
              "         -8.08736992,  -3.50101185,   1.08534622,   5.67170429,\n",
              "         10.25806236,  14.84442043,  19.4307785 ]),\n",
              " <BarContainer object of 10 artists>)"
            ]
          },
          "metadata": {},
          "execution_count": 85
        },
        {
          "output_type": "display_data",
          "data": {
            "text/plain": [
              "<Figure size 432x288 with 1 Axes>"
            ],
            "image/png": "[encoded data removed]"
          },
          "metadata": {
            "needs_background": "light"
          }
        }
      ]
    },
    {
      "cell_type": "markdown",
      "source": [
        "The derevative of the tanh is going to be 1 - tanh**2. So, the values which are in the tails which is 1 or -1 from the outcome will be staying in very close to 0 when we backpropogate the tanh function. therefore it never gonna get activated  "
      ],
      "metadata": {
        "id": "rFcmf1wNavxI"
      }
    },
    {
      "cell_type": "markdown",
      "source": [
        "![image.png](data:image/png;base64,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)"
      ],
      "metadata": {
        "id": "V4EFDb4katbj"
      }
    },
    {
      "cell_type": "markdown",
      "source": [
        "Let's analyze this with respect to our training mini batch during the last iteration"
      ],
      "metadata": {
        "id": "jRUUHxuqWIzu"
      }
    },
    {
      "cell_type": "code",
      "source": [
        "plt.figure(figsize=(20,10))\n",
        "plt.imshow((-0.99 < out_h.abs()) & (out_h.abs() > 0.99), cmap='gray', interpolation='nearest')\n",
        "\n",
        "#here x axis is going to be the neuron in the hidden layer\n",
        "#y axis is going to be the concatinated emb values going through the neurons\n",
        "#the white color boxes are going to be the ones which doesn't activate the neurons, in the other words absolute value of out_h is higher than 0.99 and falling in the flat side of tanh"
      ],
      "metadata": {
        "colab": {
          "base_uri": "https://localhost:8080/",
          "height": 245
        },
        "id": "YuMytJClVg6N",
        "outputId": "fa33e657-ca43-48cd-9658-5da21c8e9d72"
      },
      "execution_count": 91,
      "outputs": [
        {
          "output_type": "execute_result",
          "data": {
            "text/plain": [
              "<matplotlib.image.AxesImage at 0x7ff6b0914880>"
            ]
          },
          "metadata": {},
          "execution_count": 91
        },
        {
          "output_type": "display_data",
          "data": {
            "text/plain": [
              "<Figure size 1440x720 with 1 Axes>"
            ],
            "image/png": "[encoded data removed]"
          },
          "metadata": {
            "needs_background": "light"
          }
        }
      ]
    },
    {
      "cell_type": "markdown",
      "source": [
        "There we can't see the flat all complete white boxes in any columns. which is kind of a good news \n",
        "\n",
        "This conncept will be applicable for other activation non linear activations such as sigmoid, tanh, relu, etc. when the value get fall into flat region of the activation function it's never gonna activbate the neurons\n",
        "\n",
        "\n",
        "This issue can be fixed by tunning the initial weights and the bias of the layer to be close to zero or very small. because the out_h is coming from the contact emb after going through the weights and bias"
      ],
      "metadata": {
        "id": "p-BSV-9xc4II"
      }
    },
    {
      "cell_type": "code",
      "source": [
        "n_emb = 10\n",
        "n_hidden = 200\n",
        "C = torch.randn((27,n_emb))\n",
        "W1 = torch.randn((n_emb*3,n_hidden)) * 0.1\n",
        "b1 = torch.randn(n_hidden) * 0.01\n",
        "W2 = torch.randn((n_hidden, 27)) * 0.01\n",
        "b2 = torch.randn(27) *0\n",
        "parameters = [C, W1, b1, W2, b2]\n",
        "for p in parameters:\n",
        "    p.requires_grad = True\n",
        "\n",
        "stepi = []\n",
        "lrei = []\n",
        "lossi = []\n",
        "\n",
        "minibatch_size = 32\n",
        "dimension = 30\n",
        "num_0f_iteration = 50000\n",
        "\n",
        "for i in range(num_0f_iteration):\n",
        "  #pick up random mini batches of 32 row from the data set in the each iteration\n",
        "  rand_index = torch.randint(0, Xtr.shape[0], (minibatch_size,))\n",
        "\n",
        "  #forward pass\n",
        "  emb = C[Xtr[rand_index]]\n",
        "  out_h_preactivation = (emb.view(-1,dimension) @ W1 + b1)\n",
        "  out_h = out_h_preactivation.tanh()\n",
        "  logits = (out_h) @ W2 + b2\n",
        "  loss = F.cross_entropy(logits, Ytr[rand_index])\n",
        "\n",
        "  #backward\n",
        "  for p in parameters:\n",
        "    p.grad = None\n",
        "  loss.backward()\n",
        "\n",
        "  #lr = lrs[i]\n",
        "  #tune the parameters\n",
        "  for p in parameters:\n",
        "    p.data += -0.1 * p.grad\n",
        "\n",
        "  stepi.append(i)\n",
        "  #lrei.append(lr)\n",
        "  lossi.append(loss.item())\n",
        "\n"
      ],
      "metadata": {
        "id": "f5gGZrRYgvA9"
      },
      "execution_count": 95,
      "outputs": []
    },
    {
      "cell_type": "code",
      "source": [
        "plt.hist(out_h.view(-1).tolist())"
      ],
      "metadata": {
        "colab": {
          "base_uri": "https://localhost:8080/",
          "height": 369
        },
        "id": "qU-YtNxPhQ_J",
        "outputId": "898a1ef5-8c17-4073-fee8-89af11fe1261"
      },
      "execution_count": 96,
      "outputs": [
        {
          "output_type": "execute_result",
          "data": {
            "text/plain": [
              "(array([1103.,  305.,  321.,  362., 1085., 1203.,  326.,  306.,  357.,\n",
              "        1032.]),\n",
              " array([-0.99999994, -0.79999995, -0.59999996, -0.39999998, -0.19999999,\n",
              "         0.        ,  0.19999999,  0.39999998,  0.59999996,  0.79999995,\n",
              "         0.99999994]),\n",
              " <BarContainer object of 10 artists>)"
            ]
          },
          "metadata": {},
          "execution_count": 96
        },
        {
          "output_type": "display_data",
          "data": {
            "text/plain": [
              "<Figure size 432x288 with 1 Axes>"
            ],
            "image/png": "[encoded data removed]"
          },
          "metadata": {
            "needs_background": "light"
          }
        }
      ]
    },
    {
      "cell_type": "code",
      "source": [
        "plt.figure(figsize=(20,10))\n",
        "plt.imshow((-0.99 < out_h.abs()) & (out_h.abs() > 0.99), cmap='gray', interpolation='nearest')"
      ],
      "metadata": {
        "colab": {
          "base_uri": "https://localhost:8080/",
          "height": 245
        },
        "id": "xaQdsp3ohRiO",
        "outputId": "ca6fded5-c94f-4d0d-9055-a4fddb749ac6"
      },
      "execution_count": 97,
      "outputs": [
        {
          "output_type": "execute_result",
          "data": {
            "text/plain": [
              "<matplotlib.image.AxesImage at 0x7ff6b0afa3d0>"
            ]
          },
          "metadata": {},
          "execution_count": 97
        },
        {
          "output_type": "display_data",
          "data": {
            "text/plain": [
              "<Figure size 1440x720 with 1 Axes>"
            ],
            "image/png": "[encoded data removed]"
          },
          "metadata": {
            "needs_background": "light"
          }
        }
      ]
    },
    {
      "cell_type": "code",
      "source": [
        "#when we calculate the loss, now we can see the improvements\n",
        "split_loss('dev')\n",
        "split_loss('train')"
      ],
      "metadata": {
        "colab": {
          "base_uri": "https://localhost:8080/"
        },
        "id": "JkmOA-qciXip",
        "outputId": "a1ba927a-0f6d-4998-9a64-b07be1f15c8d"
      },
      "execution_count": 98,
      "outputs": [
        {
          "output_type": "stream",
          "name": "stdout",
          "text": [
            "dev : 2.215797185897827\n",
            "train : 2.175738573074341\n"
          ]
        }
      ]
    },
    {
      "cell_type": "code",
      "source": [
        "g = torch.Generator().manual_seed(2147483647)\n",
        "for _ in range(20):\n",
        "    \n",
        "    out = []\n",
        "    context = [0] * block_size\n",
        "    while True:\n",
        "      emb = C[torch.tensor([context])] \n",
        "      h = torch.tanh(emb.view(1, -1) @ W1 + b1)\n",
        "      logits = h @ W2 + b2\n",
        "      probs = F.softmax(logits, dim=1)\n",
        "      ix = torch.multinomial(probs, num_samples=1, generator=g).item()\n",
        "      context = context[1:] + [ix]\n",
        "      out.append(ix)\n",
        "      if ix == 0:\n",
        "        break\n",
        "    \n",
        "    print(''.join(itos[i] for i in out))"
      ],
      "metadata": {
        "colab": {
          "base_uri": "https://localhost:8080/"
        },
        "id": "OEpVjXao-iEQ",
        "outputId": "636c936d-d9e4-4262-8c28-763f04a66797"
      },
      "execution_count": 64,
      "outputs": [
        {
          "output_type": "stream",
          "name": "stdout",
          "text": [
            "cex.\n",
            "daiomanue.\n",
            "ilani.\n",
            "yon.\n",
            "vonichton.\n",
            "crangan.\n",
            "kandr.\n",
            "sorivie.\n",
            "jovhi.\n",
            "iolai.\n",
            "molivianno.\n",
            "kentedo.\n",
            "kaleyda.\n",
            "sidz.\n",
            "eniaverry.\n",
            "fobs.\n",
            "mollie.\n",
            "bron.\n",
            "love.\n",
            "dodi.\n"
          ]
        }
      ]
    },
    {
      "cell_type": "code",
      "source": [],
      "metadata": {
        "id": "iyN6rB-B-oZe"
      },
      "execution_count": null,
      "outputs": []
    }
  ],
  "metadata": {
    "colab": {
      "provenance": [],
      "authorship_tag": "ABX9TyNmSb2S8FMexXgB+3Hc962Q",
      "include_colab_link": true
    },
    "kernelspec": {
      "display_name": "Python 3",
      "name": "python3"
    },
    "language_info": {
      "name": "python"
    }
  },
  "nbformat": 4,
  "nbformat_minor": 0
}